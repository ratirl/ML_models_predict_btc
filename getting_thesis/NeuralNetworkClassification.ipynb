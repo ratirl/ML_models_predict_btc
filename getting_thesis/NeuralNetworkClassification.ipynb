{
 "cells": [
  {
   "cell_type": "code",
   "execution_count": 24,
   "metadata": {},
   "outputs": [],
   "source": [
    "from sklearn.model_selection import train_test_split\n",
    "from sklearn.linear_model import LinearRegression\n",
    "from sklearn.metrics import mean_squared_error\n",
    "import pandas_ta as ta\n",
    "import pandas as pd\n",
    "import numpy as np\n",
    "import matplotlib.pyplot as plt\n"
   ]
  },
  {
   "cell_type": "code",
   "execution_count": 25,
   "metadata": {},
   "outputs": [],
   "source": [
    "import tensorflow as tf\n",
    "from tensorflow import keras\n"
   ]
  },
  {
   "cell_type": "code",
   "execution_count": 26,
   "metadata": {},
   "outputs": [],
   "source": [
    "df_nflx_intraday = pd.read_csv('data_nflx_intraday.csv', index_col=0, parse_dates=True) # will be our working df\n",
    "df = df_nflx_intraday.copy() # working df\n",
    "df.columns = df.columns.str.lower()"
   ]
  },
  {
   "cell_type": "code",
   "execution_count": 27,
   "metadata": {},
   "outputs": [
    {
     "data": {
      "text/html": [
       "<div>\n",
       "<style scoped>\n",
       "    .dataframe tbody tr th:only-of-type {\n",
       "        vertical-align: middle;\n",
       "    }\n",
       "\n",
       "    .dataframe tbody tr th {\n",
       "        vertical-align: top;\n",
       "    }\n",
       "\n",
       "    .dataframe thead th {\n",
       "        text-align: right;\n",
       "    }\n",
       "</style>\n",
       "<table border=\"1\" class=\"dataframe\">\n",
       "  <thead>\n",
       "    <tr style=\"text-align: right;\">\n",
       "      <th></th>\n",
       "      <th>open</th>\n",
       "      <th>high</th>\n",
       "      <th>low</th>\n",
       "      <th>close</th>\n",
       "      <th>volume</th>\n",
       "    </tr>\n",
       "    <tr>\n",
       "      <th>date</th>\n",
       "      <th></th>\n",
       "      <th></th>\n",
       "      <th></th>\n",
       "      <th></th>\n",
       "      <th></th>\n",
       "    </tr>\n",
       "  </thead>\n",
       "  <tbody>\n",
       "    <tr>\n",
       "      <th>2023-07-27 04:00:00</th>\n",
       "      <td>423.01</td>\n",
       "      <td>425.61</td>\n",
       "      <td>423.01</td>\n",
       "      <td>425.00</td>\n",
       "      <td>1150.0</td>\n",
       "    </tr>\n",
       "    <tr>\n",
       "      <th>2023-07-27 04:01:00</th>\n",
       "      <td>425.43</td>\n",
       "      <td>427.26</td>\n",
       "      <td>425.00</td>\n",
       "      <td>427.26</td>\n",
       "      <td>677.0</td>\n",
       "    </tr>\n",
       "    <tr>\n",
       "      <th>2023-07-27 04:02:00</th>\n",
       "      <td>427.19</td>\n",
       "      <td>427.19</td>\n",
       "      <td>426.00</td>\n",
       "      <td>426.70</td>\n",
       "      <td>341.0</td>\n",
       "    </tr>\n",
       "    <tr>\n",
       "      <th>2023-07-27 04:03:00</th>\n",
       "      <td>426.76</td>\n",
       "      <td>427.01</td>\n",
       "      <td>426.65</td>\n",
       "      <td>426.84</td>\n",
       "      <td>140.0</td>\n",
       "    </tr>\n",
       "    <tr>\n",
       "      <th>2023-07-27 04:04:00</th>\n",
       "      <td>426.84</td>\n",
       "      <td>427.64</td>\n",
       "      <td>426.84</td>\n",
       "      <td>427.49</td>\n",
       "      <td>117.0</td>\n",
       "    </tr>\n",
       "  </tbody>\n",
       "</table>\n",
       "</div>"
      ],
      "text/plain": [
       "                       open    high     low   close  volume\n",
       "date                                                       \n",
       "2023-07-27 04:00:00  423.01  425.61  423.01  425.00  1150.0\n",
       "2023-07-27 04:01:00  425.43  427.26  425.00  427.26   677.0\n",
       "2023-07-27 04:02:00  427.19  427.19  426.00  426.70   341.0\n",
       "2023-07-27 04:03:00  426.76  427.01  426.65  426.84   140.0\n",
       "2023-07-27 04:04:00  426.84  427.64  426.84  427.49   117.0"
      ]
     },
     "execution_count": 27,
     "metadata": {},
     "output_type": "execute_result"
    }
   ],
   "source": [
    "df.head()"
   ]
  },
  {
   "cell_type": "code",
   "execution_count": 28,
   "metadata": {},
   "outputs": [
    {
     "name": "stderr",
     "output_type": "stream",
     "text": [
      "63it [00:05, 10.80it/s]\n"
     ]
    },
    {
     "ename": "AttributeError",
     "evalue": "'Series' object has no attribute 'append'",
     "output_type": "error",
     "traceback": [
      "\u001b[1;31m---------------------------------------------------------------------------\u001b[0m",
      "\u001b[1;31mRemoteTraceback\u001b[0m                           Traceback (most recent call last)",
      "\u001b[1;31mRemoteTraceback\u001b[0m: \n\"\"\"\nTraceback (most recent call last):\n  File \"c:\\Users\\ali\\AppData\\Local\\Programs\\Python\\Python39\\lib\\multiprocessing\\pool.py\", line 125, in worker\n    result = (True, func(*args, **kwds))\n  File \"c:\\Users\\ali\\AppData\\Local\\Programs\\Python\\Python39\\lib\\multiprocessing\\pool.py\", line 48, in mapstar\n    return list(map(*args))\n  File \"c:\\Users\\ali\\AppData\\Local\\Programs\\Python\\Python39\\lib\\site-packages\\pandas_ta\\core.py\", line 467, in _mp_worker\n    return getattr(self, method)(*args, **kwargs)\n  File \"c:\\Users\\ali\\AppData\\Local\\Programs\\Python\\Python39\\lib\\site-packages\\pandas_ta\\core.py\", line 1225, in mcgd\n    result = mcgd(close=close, length=length, offset=offset, **kwargs)\n  File \"c:\\Users\\ali\\AppData\\Local\\Programs\\Python\\Python39\\lib\\site-packages\\pandas_ta\\overlap\\mcgd.py\", line 24, in mcgd\n    mcg_ds = close[:1].append(mcg_cell[1:])\n  File \"c:\\Users\\ali\\AppData\\Local\\Programs\\Python\\Python39\\lib\\site-packages\\pandas\\core\\generic.py\", line 5989, in __getattr__\n    return object.__getattribute__(self, name)\nAttributeError: 'Series' object has no attribute 'append'\n\"\"\"",
      "\nThe above exception was the direct cause of the following exception:\n",
      "\u001b[1;31mAttributeError\u001b[0m                            Traceback (most recent call last)",
      "Cell \u001b[1;32mIn[28], line 10\u001b[0m\n\u001b[0;32m      1\u001b[0m \u001b[39m\"\"\" # adding a few indicators\u001b[39;00m\n\u001b[0;32m      2\u001b[0m \u001b[39mdf['rsi'] = ta.rsi(df['close'], length=30)\u001b[39;00m\n\u001b[0;32m      3\u001b[0m \u001b[39mdf['ad'] = ta.ad(df['high'], df['low'], df['close'], df['volume']) # Accumulation/Distribution Line\u001b[39;00m\n\u001b[1;32m   (...)\u001b[0m\n\u001b[0;32m      7\u001b[0m \u001b[39m# getting rid of nan\u001b[39;00m\n\u001b[0;32m      8\u001b[0m \u001b[39mdf.dropna(inplace=True) \"\"\"\u001b[39;00m\n\u001b[1;32m---> 10\u001b[0m df\u001b[39m.\u001b[39;49mta\u001b[39m.\u001b[39;49mstrategy()\n",
      "File \u001b[1;32mc:\\Users\\ali\\AppData\\Local\\Programs\\Python\\Python39\\lib\\site-packages\\pandas_ta\\core.py:792\u001b[0m, in \u001b[0;36mAnalysisIndicators.strategy\u001b[1;34m(self, *args, **kwargs)\u001b[0m\n\u001b[0;32m    789\u001b[0m         \u001b[39mself\u001b[39m\u001b[39m.\u001b[39m_last_run \u001b[39m=\u001b[39m get_time(\u001b[39mself\u001b[39m\u001b[39m.\u001b[39mexchange, to_string\u001b[39m=\u001b[39m\u001b[39mTrue\u001b[39;00m)\n\u001b[0;32m    791\u001b[0m \u001b[39m# Apply prefixes/suffixes and appends indicator results to the  DataFrame\u001b[39;00m\n\u001b[1;32m--> 792\u001b[0m [\u001b[39mself\u001b[39m\u001b[39m.\u001b[39m_post_process(r, \u001b[39m*\u001b[39m\u001b[39m*\u001b[39mkwargs) \u001b[39mfor\u001b[39;00m r \u001b[39min\u001b[39;00m results]\n\u001b[0;32m    794\u001b[0m \u001b[39mif\u001b[39;00m verbose:\n\u001b[0;32m    795\u001b[0m     \u001b[39mprint\u001b[39m(\u001b[39mf\u001b[39m\u001b[39m\"\u001b[39m\u001b[39m[i] Total indicators: \u001b[39m\u001b[39m{\u001b[39;00m\u001b[39mlen\u001b[39m(ta)\u001b[39m}\u001b[39;00m\u001b[39m\"\u001b[39m)\n",
      "File \u001b[1;32mc:\\Users\\ali\\AppData\\Local\\Programs\\Python\\Python39\\lib\\site-packages\\pandas_ta\\core.py:792\u001b[0m, in \u001b[0;36m<listcomp>\u001b[1;34m(.0)\u001b[0m\n\u001b[0;32m    789\u001b[0m         \u001b[39mself\u001b[39m\u001b[39m.\u001b[39m_last_run \u001b[39m=\u001b[39m get_time(\u001b[39mself\u001b[39m\u001b[39m.\u001b[39mexchange, to_string\u001b[39m=\u001b[39m\u001b[39mTrue\u001b[39;00m)\n\u001b[0;32m    791\u001b[0m \u001b[39m# Apply prefixes/suffixes and appends indicator results to the  DataFrame\u001b[39;00m\n\u001b[1;32m--> 792\u001b[0m [\u001b[39mself\u001b[39m\u001b[39m.\u001b[39m_post_process(r, \u001b[39m*\u001b[39m\u001b[39m*\u001b[39mkwargs) \u001b[39mfor\u001b[39;00m r \u001b[39min\u001b[39;00m results]\n\u001b[0;32m    794\u001b[0m \u001b[39mif\u001b[39;00m verbose:\n\u001b[0;32m    795\u001b[0m     \u001b[39mprint\u001b[39m(\u001b[39mf\u001b[39m\u001b[39m\"\u001b[39m\u001b[39m[i] Total indicators: \u001b[39m\u001b[39m{\u001b[39;00m\u001b[39mlen\u001b[39m(ta)\u001b[39m}\u001b[39;00m\u001b[39m\"\u001b[39m)\n",
      "File \u001b[1;32mc:\\Users\\ali\\AppData\\Local\\Programs\\Python\\Python39\\lib\\site-packages\\tqdm\\std.py:1178\u001b[0m, in \u001b[0;36mtqdm.__iter__\u001b[1;34m(self)\u001b[0m\n\u001b[0;32m   1175\u001b[0m time \u001b[39m=\u001b[39m \u001b[39mself\u001b[39m\u001b[39m.\u001b[39m_time\n\u001b[0;32m   1177\u001b[0m \u001b[39mtry\u001b[39;00m:\n\u001b[1;32m-> 1178\u001b[0m     \u001b[39mfor\u001b[39;00m obj \u001b[39min\u001b[39;00m iterable:\n\u001b[0;32m   1179\u001b[0m         \u001b[39myield\u001b[39;00m obj\n\u001b[0;32m   1180\u001b[0m         \u001b[39m# Update and possibly print the progressbar.\u001b[39;00m\n\u001b[0;32m   1181\u001b[0m         \u001b[39m# Note: does not call self.update(1) for speed optimisation.\u001b[39;00m\n",
      "File \u001b[1;32mc:\\Users\\ali\\AppData\\Local\\Programs\\Python\\Python39\\lib\\multiprocessing\\pool.py:420\u001b[0m, in \u001b[0;36m<genexpr>\u001b[1;34m(.0)\u001b[0m\n\u001b[0;32m    412\u001b[0m result \u001b[39m=\u001b[39m IMapIterator(\u001b[39mself\u001b[39m)\n\u001b[0;32m    413\u001b[0m \u001b[39mself\u001b[39m\u001b[39m.\u001b[39m_taskqueue\u001b[39m.\u001b[39mput(\n\u001b[0;32m    414\u001b[0m     (\n\u001b[0;32m    415\u001b[0m         \u001b[39mself\u001b[39m\u001b[39m.\u001b[39m_guarded_task_generation(result\u001b[39m.\u001b[39m_job,\n\u001b[1;32m   (...)\u001b[0m\n\u001b[0;32m    418\u001b[0m         result\u001b[39m.\u001b[39m_set_length\n\u001b[0;32m    419\u001b[0m     ))\n\u001b[1;32m--> 420\u001b[0m \u001b[39mreturn\u001b[39;00m (item \u001b[39mfor\u001b[39;00m chunk \u001b[39min\u001b[39;00m result \u001b[39mfor\u001b[39;00m item \u001b[39min\u001b[39;00m chunk)\n",
      "File \u001b[1;32mc:\\Users\\ali\\AppData\\Local\\Programs\\Python\\Python39\\lib\\multiprocessing\\pool.py:870\u001b[0m, in \u001b[0;36mIMapIterator.next\u001b[1;34m(self, timeout)\u001b[0m\n\u001b[0;32m    868\u001b[0m \u001b[39mif\u001b[39;00m success:\n\u001b[0;32m    869\u001b[0m     \u001b[39mreturn\u001b[39;00m value\n\u001b[1;32m--> 870\u001b[0m \u001b[39mraise\u001b[39;00m value\n",
      "\u001b[1;31mAttributeError\u001b[0m: 'Series' object has no attribute 'append'"
     ]
    }
   ],
   "source": [
    "\"\"\" # adding a few indicators\n",
    "df['rsi'] = ta.rsi(df['close'], length=30)\n",
    "df['ad'] = ta.ad(df['high'], df['low'], df['close'], df['volume']) # Accumulation/Distribution Line\n",
    "bbands = ta.bbands(df['close'], length=10, mamode=\"ema\") #  Returns: pd.DataFrame: lower, mid, upper, bandwidth, and percent columns.\n",
    "df[['bbandsl', 'bbandsm', 'bbandsu','bbandsb', 'bbandsp']] = bbands[['BBL_10_2.0', 'BBM_10_2.0', 'BBU_10_2.0', 'BBB_10_2.0', 'BBP_10_2.0']]\n",
    "\n",
    "# getting rid of nan\n",
    "df.dropna(inplace=True) \"\"\"\n",
    "\n",
    "df.ta.strategy()"
   ]
  },
  {
   "cell_type": "code",
   "execution_count": 29,
   "metadata": {},
   "outputs": [
    {
     "name": "stdout",
     "output_type": "stream",
     "text": [
      "<class 'pandas.core.frame.DataFrame'>\n",
      "DatetimeIndex: 17506 entries, 2023-07-27 04:00:00 to 2023-08-24 19:59:00\n",
      "Columns: 176 entries, open to MAD_30\n",
      "dtypes: float64(169), int32(7)\n",
      "memory usage: 23.2 MB\n"
     ]
    }
   ],
   "source": [
    "df.info()\n",
    "df['price_increased'] = np.where(df['close'].diff() > 0, 1, 0)"
   ]
  },
  {
   "cell_type": "code",
   "execution_count": 30,
   "metadata": {},
   "outputs": [
    {
     "name": "stdout",
     "output_type": "stream",
     "text": [
      "<class 'pandas.core.frame.DataFrame'>\n",
      "DatetimeIndex: 17506 entries, 2023-07-27 04:00:00 to 2023-08-24 19:59:00\n",
      "Columns: 177 entries, open to price_increased\n",
      "dtypes: float64(169), int32(8)\n",
      "memory usage: 23.2 MB\n"
     ]
    }
   ],
   "source": [
    "df.info()"
   ]
  },
  {
   "cell_type": "code",
   "execution_count": 31,
   "metadata": {},
   "outputs": [],
   "source": [
    "df.dropna(inplace=True)"
   ]
  },
  {
   "cell_type": "code",
   "execution_count": 32,
   "metadata": {},
   "outputs": [
    {
     "name": "stdout",
     "output_type": "stream",
     "text": [
      "<class 'pandas.core.frame.DataFrame'>\n",
      "DatetimeIndex: 4932 entries, 2023-07-27 05:53:00 to 2023-08-24 19:19:00\n",
      "Columns: 177 entries, open to price_increased\n",
      "dtypes: float64(169), int32(8)\n",
      "memory usage: 6.5 MB\n"
     ]
    }
   ],
   "source": [
    "df.info()"
   ]
  },
  {
   "cell_type": "code",
   "execution_count": 33,
   "metadata": {},
   "outputs": [],
   "source": [
    "# dividing X and y\n",
    "X = df.drop(columns=['price_increased'])\n",
    "y = df[['price_increased']]"
   ]
  },
  {
   "cell_type": "code",
   "execution_count": 38,
   "metadata": {},
   "outputs": [],
   "source": [
    "X_train, X_test, y_train, y_test = train_test_split(X, y, test_size=0.2, random_state=42)"
   ]
  },
  {
   "cell_type": "code",
   "execution_count": 49,
   "metadata": {},
   "outputs": [],
   "source": [
    "from sklearn.preprocessing import MinMaxScaler\n",
    "scaler = MinMaxScaler()\n",
    "\n",
    "X_train = scaler.fit_transform(X_train)\n",
    "X_test = scaler.transform(X_test)\n"
   ]
  },
  {
   "cell_type": "code",
   "execution_count": 50,
   "metadata": {},
   "outputs": [],
   "source": [
    "num_features = X_train.shape[1]"
   ]
  },
  {
   "cell_type": "code",
   "execution_count": null,
   "metadata": {},
   "outputs": [],
   "source": [
    "\"\"\" # Creating model using sequential API ** PAGE 296 **\n",
    "model = keras.models.Sequential()\n",
    "model.add(keras.layers.Flatten(input_shape=(num_features,)))\n",
    "model.add(keras.layers.Dense(300, activation=\"relu\"))\n",
    "model.add(keras.layers.Dense(100, activation=\"relu\"))\n",
    "model.add(keras.layers.Dense(10, activation=\"softmax\")) \"\"\""
   ]
  },
  {
   "cell_type": "code",
   "execution_count": 51,
   "metadata": {},
   "outputs": [],
   "source": [
    "# Creating model using sequential API ** PAGE 296 **\n",
    "model = keras.models.Sequential([\n",
    " keras.layers.Flatten(input_shape=(num_features,)),\n",
    " keras.layers.Dense(300, activation=\"relu\"),\n",
    " keras.layers.Dense(100, activation=\"relu\"),\n",
    " keras.layers.Dense(1, activation=\"sigmoid\")\n",
    "])\n"
   ]
  },
  {
   "cell_type": "code",
   "execution_count": 52,
   "metadata": {},
   "outputs": [],
   "source": [
    "# Compiling the model\n",
    "model.compile(loss=\"binary_crossentropy\",\n",
    "                optimizer=\"sgd\",\n",
    "                metrics=[\"accuracy\"])"
   ]
  },
  {
   "cell_type": "code",
   "execution_count": 53,
   "metadata": {},
   "outputs": [
    {
     "name": "stdout",
     "output_type": "stream",
     "text": [
      "Epoch 1/30\n",
      "111/111 [==============================] - 1s 2ms/step - loss: 0.5657 - accuracy: 0.7566 - val_loss: 0.4631 - val_accuracy: 0.9873\n",
      "Epoch 2/30\n",
      "111/111 [==============================] - 0s 1ms/step - loss: 0.3644 - accuracy: 0.9794 - val_loss: 0.2692 - val_accuracy: 0.9873\n",
      "Epoch 3/30\n",
      "111/111 [==============================] - 0s 1ms/step - loss: 0.1971 - accuracy: 0.9961 - val_loss: 0.1429 - val_accuracy: 0.9899\n",
      "Epoch 4/30\n",
      "111/111 [==============================] - 0s 2ms/step - loss: 0.1119 - accuracy: 0.9980 - val_loss: 0.0886 - val_accuracy: 0.9949\n",
      "Epoch 5/30\n",
      "111/111 [==============================] - 0s 1ms/step - loss: 0.0711 - accuracy: 0.9989 - val_loss: 0.0595 - val_accuracy: 1.0000\n",
      "Epoch 6/30\n",
      "111/111 [==============================] - 0s 1ms/step - loss: 0.0492 - accuracy: 0.9994 - val_loss: 0.0433 - val_accuracy: 1.0000\n",
      "Epoch 7/30\n",
      "111/111 [==============================] - 0s 1ms/step - loss: 0.0362 - accuracy: 1.0000 - val_loss: 0.0332 - val_accuracy: 1.0000\n",
      "Epoch 8/30\n",
      "111/111 [==============================] - 0s 1ms/step - loss: 0.0278 - accuracy: 1.0000 - val_loss: 0.0260 - val_accuracy: 1.0000\n",
      "Epoch 9/30\n",
      "111/111 [==============================] - 0s 1ms/step - loss: 0.0223 - accuracy: 1.0000 - val_loss: 0.0218 - val_accuracy: 1.0000\n",
      "Epoch 10/30\n",
      "111/111 [==============================] - 0s 1ms/step - loss: 0.0182 - accuracy: 1.0000 - val_loss: 0.0177 - val_accuracy: 1.0000\n",
      "Epoch 11/30\n",
      "111/111 [==============================] - 0s 1ms/step - loss: 0.0153 - accuracy: 1.0000 - val_loss: 0.0150 - val_accuracy: 1.0000\n",
      "Epoch 12/30\n",
      "111/111 [==============================] - 0s 1ms/step - loss: 0.0130 - accuracy: 1.0000 - val_loss: 0.0129 - val_accuracy: 1.0000\n",
      "Epoch 13/30\n",
      "111/111 [==============================] - 0s 1ms/step - loss: 0.0113 - accuracy: 1.0000 - val_loss: 0.0113 - val_accuracy: 1.0000\n",
      "Epoch 14/30\n",
      "111/111 [==============================] - 0s 1ms/step - loss: 0.0099 - accuracy: 1.0000 - val_loss: 0.0100 - val_accuracy: 1.0000\n",
      "Epoch 15/30\n",
      "111/111 [==============================] - 0s 1ms/step - loss: 0.0087 - accuracy: 1.0000 - val_loss: 0.0090 - val_accuracy: 1.0000\n",
      "Epoch 16/30\n",
      "111/111 [==============================] - 0s 1ms/step - loss: 0.0078 - accuracy: 1.0000 - val_loss: 0.0080 - val_accuracy: 1.0000\n",
      "Epoch 17/30\n",
      "111/111 [==============================] - 0s 1ms/step - loss: 0.0071 - accuracy: 1.0000 - val_loss: 0.0073 - val_accuracy: 1.0000\n",
      "Epoch 18/30\n",
      "111/111 [==============================] - 0s 1ms/step - loss: 0.0064 - accuracy: 1.0000 - val_loss: 0.0066 - val_accuracy: 1.0000\n",
      "Epoch 19/30\n",
      "111/111 [==============================] - 0s 1ms/step - loss: 0.0058 - accuracy: 1.0000 - val_loss: 0.0060 - val_accuracy: 1.0000\n",
      "Epoch 20/30\n",
      "111/111 [==============================] - 0s 1ms/step - loss: 0.0054 - accuracy: 1.0000 - val_loss: 0.0056 - val_accuracy: 1.0000\n",
      "Epoch 21/30\n",
      "111/111 [==============================] - 0s 1ms/step - loss: 0.0050 - accuracy: 1.0000 - val_loss: 0.0052 - val_accuracy: 1.0000\n",
      "Epoch 22/30\n",
      "111/111 [==============================] - 0s 1ms/step - loss: 0.0046 - accuracy: 1.0000 - val_loss: 0.0048 - val_accuracy: 1.0000\n",
      "Epoch 23/30\n",
      "111/111 [==============================] - 0s 1ms/step - loss: 0.0043 - accuracy: 1.0000 - val_loss: 0.0045 - val_accuracy: 1.0000\n",
      "Epoch 24/30\n",
      "111/111 [==============================] - 0s 1ms/step - loss: 0.0040 - accuracy: 1.0000 - val_loss: 0.0042 - val_accuracy: 1.0000\n",
      "Epoch 25/30\n",
      "111/111 [==============================] - 0s 1ms/step - loss: 0.0037 - accuracy: 1.0000 - val_loss: 0.0039 - val_accuracy: 1.0000\n",
      "Epoch 26/30\n",
      "111/111 [==============================] - 0s 1ms/step - loss: 0.0035 - accuracy: 1.0000 - val_loss: 0.0037 - val_accuracy: 1.0000\n",
      "Epoch 27/30\n",
      "111/111 [==============================] - 0s 1ms/step - loss: 0.0033 - accuracy: 1.0000 - val_loss: 0.0035 - val_accuracy: 1.0000\n",
      "Epoch 28/30\n",
      "111/111 [==============================] - 0s 1ms/step - loss: 0.0031 - accuracy: 1.0000 - val_loss: 0.0033 - val_accuracy: 1.0000\n",
      "Epoch 29/30\n",
      "111/111 [==============================] - 0s 1ms/step - loss: 0.0030 - accuracy: 1.0000 - val_loss: 0.0031 - val_accuracy: 1.0000\n",
      "Epoch 30/30\n",
      "111/111 [==============================] - 0s 1ms/step - loss: 0.0028 - accuracy: 1.0000 - val_loss: 0.0030 - val_accuracy: 1.0000\n"
     ]
    }
   ],
   "source": [
    "# Training and evaluating the model\n",
    "history = model.fit(X_train, y_train, epochs=30,\n",
    "                     validation_split=0.1, batch_size=32 )"
   ]
  },
  {
   "cell_type": "code",
   "execution_count": 54,
   "metadata": {},
   "outputs": [
    {
     "data": {
      "image/png": "[encoded data removed]",
      "text/plain": [
       "<Figure size 800x500 with 1 Axes>"
      ]
     },
     "metadata": {},
     "output_type": "display_data"
    }
   ],
   "source": [
    "pd.DataFrame(history.history).plot(figsize=(8, 5))\n",
    "plt.grid(True)\n",
    "plt.gca().set_ylim(0, 1) # set the vertical range to [0-1]\n",
    "plt.show()\n"
   ]
  },
  {
   "cell_type": "markdown",
   "metadata": {},
   "source": [
    "Conclusion: this is really good since both the losses are falling and both the accuracies are increasing. And the fact that the curves are really close to each other this means we dont have overfitting happening. \n",
    "If we are not happy with the result we can tune the \n",
    "    hyperparameters ( number of layers, number of neurons per layer, type of activation for each hidden layer, the epochs, batch siz (it can be set in the fit() method using the\n",
    "batch_size argument, which defaults to 32)) "
   ]
  },
  {
   "cell_type": "code",
   "execution_count": 55,
   "metadata": {},
   "outputs": [
    {
     "name": "stdout",
     "output_type": "stream",
     "text": [
      "31/31 [==============================] - 0s 667us/step - loss: 0.0027 - accuracy: 1.0000\n"
     ]
    },
    {
     "data": {
      "text/plain": [
       "[0.0026685649063438177, 1.0]"
      ]
     },
     "execution_count": 55,
     "metadata": {},
     "output_type": "execute_result"
    }
   ],
   "source": [
    "# Evaluating the model\n",
    "model.evaluate(X_test, y_test)"
   ]
  },
  {
   "cell_type": "code",
   "execution_count": 56,
   "metadata": {},
   "outputs": [
    {
     "name": "stdout",
     "output_type": "stream",
     "text": [
      "1/1 [==============================] - 0s 61ms/step\n"
     ]
    },
    {
     "data": {
      "text/plain": [
       "array([[0.  ],\n",
       "       [0.99],\n",
       "       [0.01],\n",
       "       [0.99],\n",
       "       [0.  ],\n",
       "       [0.  ],\n",
       "       [1.  ],\n",
       "       [0.99],\n",
       "       [0.  ],\n",
       "       [0.  ]], dtype=float32)"
      ]
     },
     "execution_count": 56,
     "metadata": {},
     "output_type": "execute_result"
    }
   ],
   "source": [
    "# Using the model to make predictions\n",
    "X_new = X_test[:10]\n",
    "y_proba = model.predict(X_new)\n",
    "y_proba.round(2)\n"
   ]
  },
  {
   "cell_type": "code",
   "execution_count": 57,
   "metadata": {},
   "outputs": [
    {
     "data": {
      "text/html": [
       "<div>\n",
       "<style scoped>\n",
       "    .dataframe tbody tr th:only-of-type {\n",
       "        vertical-align: middle;\n",
       "    }\n",
       "\n",
       "    .dataframe tbody tr th {\n",
       "        vertical-align: top;\n",
       "    }\n",
       "\n",
       "    .dataframe thead th {\n",
       "        text-align: right;\n",
       "    }\n",
       "</style>\n",
       "<table border=\"1\" class=\"dataframe\">\n",
       "  <thead>\n",
       "    <tr style=\"text-align: right;\">\n",
       "      <th></th>\n",
       "      <th>price_increased</th>\n",
       "    </tr>\n",
       "    <tr>\n",
       "      <th>date</th>\n",
       "      <th></th>\n",
       "    </tr>\n",
       "  </thead>\n",
       "  <tbody>\n",
       "    <tr>\n",
       "      <th>2023-08-22 14:40:00</th>\n",
       "      <td>0</td>\n",
       "    </tr>\n",
       "    <tr>\n",
       "      <th>2023-08-02 14:52:00</th>\n",
       "      <td>1</td>\n",
       "    </tr>\n",
       "    <tr>\n",
       "      <th>2023-08-22 19:17:00</th>\n",
       "      <td>0</td>\n",
       "    </tr>\n",
       "    <tr>\n",
       "      <th>2023-08-22 08:25:00</th>\n",
       "      <td>1</td>\n",
       "    </tr>\n",
       "    <tr>\n",
       "      <th>2023-07-27 16:36:00</th>\n",
       "      <td>0</td>\n",
       "    </tr>\n",
       "    <tr>\n",
       "      <th>2023-07-31 08:17:00</th>\n",
       "      <td>0</td>\n",
       "    </tr>\n",
       "    <tr>\n",
       "      <th>2023-08-08 12:01:00</th>\n",
       "      <td>1</td>\n",
       "    </tr>\n",
       "    <tr>\n",
       "      <th>2023-07-27 11:40:00</th>\n",
       "      <td>1</td>\n",
       "    </tr>\n",
       "    <tr>\n",
       "      <th>2023-07-31 15:10:00</th>\n",
       "      <td>0</td>\n",
       "    </tr>\n",
       "    <tr>\n",
       "      <th>2023-08-01 16:16:00</th>\n",
       "      <td>0</td>\n",
       "    </tr>\n",
       "  </tbody>\n",
       "</table>\n",
       "</div>"
      ],
      "text/plain": [
       "                     price_increased\n",
       "date                                \n",
       "2023-08-22 14:40:00                0\n",
       "2023-08-02 14:52:00                1\n",
       "2023-08-22 19:17:00                0\n",
       "2023-08-22 08:25:00                1\n",
       "2023-07-27 16:36:00                0\n",
       "2023-07-31 08:17:00                0\n",
       "2023-08-08 12:01:00                1\n",
       "2023-07-27 11:40:00                1\n",
       "2023-07-31 15:10:00                0\n",
       "2023-08-01 16:16:00                0"
      ]
     },
     "execution_count": 57,
     "metadata": {},
     "output_type": "execute_result"
    }
   ],
   "source": [
    "y_test[:10]"
   ]
  }
 ],
 "metadata": {
  "kernelspec": {
   "display_name": "Python 3",
   "language": "python",
   "name": "python3"
  },
  "language_info": {
   "codemirror_mode": {
    "name": "ipython",
    "version": 3
   },
   "file_extension": ".py",
   "mimetype": "text/x-python",
   "name": "python",
   "nbconvert_exporter": "python",
   "pygments_lexer": "ipython3",
   "version": "3.9.10"
  },
  "orig_nbformat": 4
 },
 "nbformat": 4,
 "nbformat_minor": 2
}
