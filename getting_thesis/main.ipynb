{
 "cells": [
  {
   "cell_type": "code",
   "execution_count": 388,
   "metadata": {},
   "outputs": [],
   "source": [
    "import pandas as pd\n",
    "import pandas_ta as ta"
   ]
  },
  {
   "cell_type": "code",
   "execution_count": 389,
   "metadata": {},
   "outputs": [],
   "source": [
    "# getting the local datasets\n",
    "df_aapl_intraday = pd.read_csv('data_aapl_intraday.csv', index_col=0, parse_dates=True) # to set the index as datetimeindex and not rangeindex\n",
    "df_nflx_intraday = pd.read_csv('data_nflx_intraday.csv', index_col=0, parse_dates=True) # will be our working df\n",
    "df_tsla_intraday = pd.read_csv('data_tsla_intraday.csv', index_col=0, parse_dates=True)\n"
   ]
  },
  {
   "cell_type": "code",
   "execution_count": 390,
   "metadata": {},
   "outputs": [],
   "source": [
    "df = df_nflx_intraday.copy() # working df\n"
   ]
  },
  {
   "cell_type": "code",
   "execution_count": 391,
   "metadata": {},
   "outputs": [
    {
     "data": {
      "text/html": [
       "<div>\n",
       "<style scoped>\n",
       "    .dataframe tbody tr th:only-of-type {\n",
       "        vertical-align: middle;\n",
       "    }\n",
       "\n",
       "    .dataframe tbody tr th {\n",
       "        vertical-align: top;\n",
       "    }\n",
       "\n",
       "    .dataframe thead th {\n",
       "        text-align: right;\n",
       "    }\n",
       "</style>\n",
       "<table border=\"1\" class=\"dataframe\">\n",
       "  <thead>\n",
       "    <tr style=\"text-align: right;\">\n",
       "      <th></th>\n",
       "      <th>Open</th>\n",
       "      <th>High</th>\n",
       "      <th>Low</th>\n",
       "      <th>Close</th>\n",
       "      <th>Volume</th>\n",
       "    </tr>\n",
       "    <tr>\n",
       "      <th>date</th>\n",
       "      <th></th>\n",
       "      <th></th>\n",
       "      <th></th>\n",
       "      <th></th>\n",
       "      <th></th>\n",
       "    </tr>\n",
       "  </thead>\n",
       "  <tbody>\n",
       "    <tr>\n",
       "      <th>2023-07-27 04:00:00</th>\n",
       "      <td>423.01</td>\n",
       "      <td>425.61</td>\n",
       "      <td>423.01</td>\n",
       "      <td>425.00</td>\n",
       "      <td>1150.0</td>\n",
       "    </tr>\n",
       "    <tr>\n",
       "      <th>2023-07-27 04:01:00</th>\n",
       "      <td>425.43</td>\n",
       "      <td>427.26</td>\n",
       "      <td>425.00</td>\n",
       "      <td>427.26</td>\n",
       "      <td>677.0</td>\n",
       "    </tr>\n",
       "    <tr>\n",
       "      <th>2023-07-27 04:02:00</th>\n",
       "      <td>427.19</td>\n",
       "      <td>427.19</td>\n",
       "      <td>426.00</td>\n",
       "      <td>426.70</td>\n",
       "      <td>341.0</td>\n",
       "    </tr>\n",
       "    <tr>\n",
       "      <th>2023-07-27 04:03:00</th>\n",
       "      <td>426.76</td>\n",
       "      <td>427.01</td>\n",
       "      <td>426.65</td>\n",
       "      <td>426.84</td>\n",
       "      <td>140.0</td>\n",
       "    </tr>\n",
       "    <tr>\n",
       "      <th>2023-07-27 04:04:00</th>\n",
       "      <td>426.84</td>\n",
       "      <td>427.64</td>\n",
       "      <td>426.84</td>\n",
       "      <td>427.49</td>\n",
       "      <td>117.0</td>\n",
       "    </tr>\n",
       "  </tbody>\n",
       "</table>\n",
       "</div>"
      ],
      "text/plain": [
       "                       Open    High     Low   Close  Volume\n",
       "date                                                       \n",
       "2023-07-27 04:00:00  423.01  425.61  423.01  425.00  1150.0\n",
       "2023-07-27 04:01:00  425.43  427.26  425.00  427.26   677.0\n",
       "2023-07-27 04:02:00  427.19  427.19  426.00  426.70   341.0\n",
       "2023-07-27 04:03:00  426.76  427.01  426.65  426.84   140.0\n",
       "2023-07-27 04:04:00  426.84  427.64  426.84  427.49   117.0"
      ]
     },
     "execution_count": 391,
     "metadata": {},
     "output_type": "execute_result"
    }
   ],
   "source": [
    "df.head()"
   ]
  },
  {
   "cell_type": "code",
   "execution_count": null,
   "metadata": {},
   "outputs": [],
   "source": [
    "ind_list = df.ta.indicators(as_list=True)"
   ]
  },
  {
   "cell_type": "code",
   "execution_count": null,
   "metadata": {},
   "outputs": [],
   "source": [
    "ind_list"
   ]
  },
  {
   "cell_type": "markdown",
   "metadata": {},
   "source": [
    "Getting indicators out of the OHCL data"
   ]
  },
  {
   "cell_type": "code",
   "execution_count": 392,
   "metadata": {},
   "outputs": [],
   "source": [
    "df['obv'] = ta.obv(df['Close'], df['Volume']) # On-Balance Volume\n",
    "df['ad'] = ta.ad(df['High'], df['Low'], df['Close'], df['Volume']) # Accumulation/Distribution Line\n",
    "adx = ta.adx(df['High'], df['Low'], df['Close']) # Average Directional Index\n",
    "#print(adx)\n",
    "df[['adx', 'dmp', 'dmn']] = adx[['ADX_14', 'DMP_14', 'DMN_14']]\n",
    "macd = ta.macd(df['Close'], fast=2, slow=10) # MACD\n",
    "#print(macd)\n",
    "df[['macd', 'macdhist', 'macdsignal']] = macd[['MACD_2_10_9', 'MACDh_2_10_9', 'MACDs_2_10_9']]\n",
    "df['rsi'] = ta.rsi(df['Close'], length=30) # Relative Strength Index (length 30 because I'm interested in the last half hour of data)\n",
    "stoch = ta.stoch(df['High'], df['Low'], df['Close'], length=14)\n",
    "#print(stoch)\n",
    "df[['stochk', 'stochd']] = stoch[['STOCHk_14_3_3', 'STOCHd_14_3_3']]\n",
    "bbands = ta.bbands(df['Close'], length=10, mamode=\"ema\") #  Returns: pd.DataFrame: lower, mid, upper, bandwidth, and percent columns.\n",
    "df[['bbandsl', 'bbandsm', 'bbandsu','bbandsb', 'bbandsp']] = bbands[['BBL_10_2.0', 'BBM_10_2.0', 'BBU_10_2.0', 'BBB_10_2.0', 'BBP_10_2.0']]\n",
    "\n"
   ]
  },
  {
   "cell_type": "code",
   "execution_count": 394,
   "metadata": {},
   "outputs": [],
   "source": [
    "df.tail()\n",
    "df.columns = df.columns.str.lower()"
   ]
  },
  {
   "cell_type": "markdown",
   "metadata": {},
   "source": [
    "Now I put up together a strategy for one indicator and then I will expand this in a function so that we can apply it to all (or most) of the indicators."
   ]
  },
  {
   "cell_type": "code",
   "execution_count": 556,
   "metadata": {},
   "outputs": [],
   "source": [
    "import numpy as np\n",
    "\n",
    "def get_signals_rsi(adf):\n",
    "    # eg for the rsi we return a df where we \n",
    "    df = adf.copy()\n",
    "    df['buy_signal'] = df['rsi'] < 40\n",
    "    df['sell_signal'] = df['rsi'] > 60\n",
    "    return df[['close', 'rsi', 'buy_signal', 'sell_signal']]\n",
    "    \n",
    "\n",
    "def get_signals_GC(adf):\n",
    "    # eg for the rsi we return a df where we \n",
    "    df = adf.copy()\n",
    "    df['buy_signal'] = df.ta.ema(5) > df.ta.ema(15)\n",
    "    df['sell_signal'] = df.ta.ema(5) < df.ta.ema(15)\n",
    "    return df[['close', 'buy_signal', 'sell_signal']]\n",
    "    "
   ]
  },
  {
   "cell_type": "code",
   "execution_count": 493,
   "metadata": {},
   "outputs": [],
   "source": [
    "newdf = df[(df.index.year == 2023)& ( df.index.month == 8) & ( df.index.day == 21)] # a temporary df of one day (21 august)"
   ]
  },
  {
   "cell_type": "code",
   "execution_count": 494,
   "metadata": {},
   "outputs": [
    {
     "data": {
      "text/html": [
       "<div>\n",
       "<style scoped>\n",
       "    .dataframe tbody tr th:only-of-type {\n",
       "        vertical-align: middle;\n",
       "    }\n",
       "\n",
       "    .dataframe tbody tr th {\n",
       "        vertical-align: top;\n",
       "    }\n",
       "\n",
       "    .dataframe thead th {\n",
       "        text-align: right;\n",
       "    }\n",
       "</style>\n",
       "<table border=\"1\" class=\"dataframe\">\n",
       "  <thead>\n",
       "    <tr style=\"text-align: right;\">\n",
       "      <th></th>\n",
       "      <th>open</th>\n",
       "      <th>high</th>\n",
       "      <th>low</th>\n",
       "      <th>close</th>\n",
       "      <th>volume</th>\n",
       "      <th>obv</th>\n",
       "      <th>ad</th>\n",
       "      <th>adx</th>\n",
       "      <th>dmp</th>\n",
       "      <th>dmn</th>\n",
       "      <th>...</th>\n",
       "      <th>rsi</th>\n",
       "      <th>stochk</th>\n",
       "      <th>stochd</th>\n",
       "      <th>bbandsl</th>\n",
       "      <th>bbandsm</th>\n",
       "      <th>bbandsu</th>\n",
       "      <th>bbandsb</th>\n",
       "      <th>bbandsp</th>\n",
       "      <th>buy_signal</th>\n",
       "      <th>sell_signal</th>\n",
       "    </tr>\n",
       "    <tr>\n",
       "      <th>date</th>\n",
       "      <th></th>\n",
       "      <th></th>\n",
       "      <th></th>\n",
       "      <th></th>\n",
       "      <th></th>\n",
       "      <th></th>\n",
       "      <th></th>\n",
       "      <th></th>\n",
       "      <th></th>\n",
       "      <th></th>\n",
       "      <th></th>\n",
       "      <th></th>\n",
       "      <th></th>\n",
       "      <th></th>\n",
       "      <th></th>\n",
       "      <th></th>\n",
       "      <th></th>\n",
       "      <th></th>\n",
       "      <th></th>\n",
       "      <th></th>\n",
       "      <th></th>\n",
       "    </tr>\n",
       "  </thead>\n",
       "  <tbody>\n",
       "    <tr>\n",
       "      <th>2023-08-21 19:55:00</th>\n",
       "      <td>407.00</td>\n",
       "      <td>407.00</td>\n",
       "      <td>406.33</td>\n",
       "      <td>406.33</td>\n",
       "      <td>56.0</td>\n",
       "      <td>-3648456.0</td>\n",
       "      <td>-2.178472e+06</td>\n",
       "      <td>18.815167</td>\n",
       "      <td>31.951057</td>\n",
       "      <td>17.685240</td>\n",
       "      <td>...</td>\n",
       "      <td>45.857476</td>\n",
       "      <td>9.100991</td>\n",
       "      <td>11.367095</td>\n",
       "      <td>406.188570</td>\n",
       "      <td>406.546493</td>\n",
       "      <td>406.904417</td>\n",
       "      <td>0.176080</td>\n",
       "      <td>0.197570</td>\n",
       "      <td>False</td>\n",
       "      <td>False</td>\n",
       "    </tr>\n",
       "    <tr>\n",
       "      <th>2023-08-21 19:56:00</th>\n",
       "      <td>406.40</td>\n",
       "      <td>406.40</td>\n",
       "      <td>406.40</td>\n",
       "      <td>406.40</td>\n",
       "      <td>40.0</td>\n",
       "      <td>-3648416.0</td>\n",
       "      <td>-2.178472e+06</td>\n",
       "      <td>19.524133</td>\n",
       "      <td>31.530249</td>\n",
       "      <td>17.452319</td>\n",
       "      <td>...</td>\n",
       "      <td>46.380629</td>\n",
       "      <td>5.086052</td>\n",
       "      <td>7.547143</td>\n",
       "      <td>406.193570</td>\n",
       "      <td>406.519858</td>\n",
       "      <td>406.846146</td>\n",
       "      <td>0.160528</td>\n",
       "      <td>0.316331</td>\n",
       "      <td>False</td>\n",
       "      <td>False</td>\n",
       "    </tr>\n",
       "    <tr>\n",
       "      <th>2023-08-21 19:57:00</th>\n",
       "      <td>406.50</td>\n",
       "      <td>406.88</td>\n",
       "      <td>406.50</td>\n",
       "      <td>406.88</td>\n",
       "      <td>11.0</td>\n",
       "      <td>-3648405.0</td>\n",
       "      <td>-2.178461e+06</td>\n",
       "      <td>21.025676</td>\n",
       "      <td>37.599232</td>\n",
       "      <td>15.905390</td>\n",
       "      <td>...</td>\n",
       "      <td>49.820066</td>\n",
       "      <td>27.540029</td>\n",
       "      <td>13.909024</td>\n",
       "      <td>406.176907</td>\n",
       "      <td>406.585339</td>\n",
       "      <td>406.993770</td>\n",
       "      <td>0.200908</td>\n",
       "      <td>0.860724</td>\n",
       "      <td>False</td>\n",
       "      <td>False</td>\n",
       "    </tr>\n",
       "    <tr>\n",
       "      <th>2023-08-21 19:58:00</th>\n",
       "      <td>406.88</td>\n",
       "      <td>406.88</td>\n",
       "      <td>406.50</td>\n",
       "      <td>406.50</td>\n",
       "      <td>10.0</td>\n",
       "      <td>-3648415.0</td>\n",
       "      <td>-2.178471e+06</td>\n",
       "      <td>22.419966</td>\n",
       "      <td>34.957524</td>\n",
       "      <td>14.787883</td>\n",
       "      <td>...</td>\n",
       "      <td>47.333501</td>\n",
       "      <td>34.509804</td>\n",
       "      <td>22.378628</td>\n",
       "      <td>406.187512</td>\n",
       "      <td>406.569822</td>\n",
       "      <td>406.952133</td>\n",
       "      <td>0.188066</td>\n",
       "      <td>0.408683</td>\n",
       "      <td>False</td>\n",
       "      <td>False</td>\n",
       "    </tr>\n",
       "    <tr>\n",
       "      <th>2023-08-21 19:59:00</th>\n",
       "      <td>406.70</td>\n",
       "      <td>407.00</td>\n",
       "      <td>406.50</td>\n",
       "      <td>406.50</td>\n",
       "      <td>155.0</td>\n",
       "      <td>-3648415.0</td>\n",
       "      <td>-2.178626e+06</td>\n",
       "      <td>23.909296</td>\n",
       "      <td>33.965388</td>\n",
       "      <td>13.448932</td>\n",
       "      <td>...</td>\n",
       "      <td>47.333501</td>\n",
       "      <td>38.431373</td>\n",
       "      <td>33.493735</td>\n",
       "      <td>406.175550</td>\n",
       "      <td>406.557127</td>\n",
       "      <td>406.938704</td>\n",
       "      <td>0.187711</td>\n",
       "      <td>0.425143</td>\n",
       "      <td>False</td>\n",
       "      <td>False</td>\n",
       "    </tr>\n",
       "  </tbody>\n",
       "</table>\n",
       "<p>5 rows × 23 columns</p>\n",
       "</div>"
      ],
      "text/plain": [
       "                       open    high     low   close  volume        obv  \\\n",
       "date                                                                     \n",
       "2023-08-21 19:55:00  407.00  407.00  406.33  406.33    56.0 -3648456.0   \n",
       "2023-08-21 19:56:00  406.40  406.40  406.40  406.40    40.0 -3648416.0   \n",
       "2023-08-21 19:57:00  406.50  406.88  406.50  406.88    11.0 -3648405.0   \n",
       "2023-08-21 19:58:00  406.88  406.88  406.50  406.50    10.0 -3648415.0   \n",
       "2023-08-21 19:59:00  406.70  407.00  406.50  406.50   155.0 -3648415.0   \n",
       "\n",
       "                               ad        adx        dmp        dmn  ...  \\\n",
       "date                                                                ...   \n",
       "2023-08-21 19:55:00 -2.178472e+06  18.815167  31.951057  17.685240  ...   \n",
       "2023-08-21 19:56:00 -2.178472e+06  19.524133  31.530249  17.452319  ...   \n",
       "2023-08-21 19:57:00 -2.178461e+06  21.025676  37.599232  15.905390  ...   \n",
       "2023-08-21 19:58:00 -2.178471e+06  22.419966  34.957524  14.787883  ...   \n",
       "2023-08-21 19:59:00 -2.178626e+06  23.909296  33.965388  13.448932  ...   \n",
       "\n",
       "                           rsi     stochk     stochd     bbandsl     bbandsm  \\\n",
       "date                                                                           \n",
       "2023-08-21 19:55:00  45.857476   9.100991  11.367095  406.188570  406.546493   \n",
       "2023-08-21 19:56:00  46.380629   5.086052   7.547143  406.193570  406.519858   \n",
       "2023-08-21 19:57:00  49.820066  27.540029  13.909024  406.176907  406.585339   \n",
       "2023-08-21 19:58:00  47.333501  34.509804  22.378628  406.187512  406.569822   \n",
       "2023-08-21 19:59:00  47.333501  38.431373  33.493735  406.175550  406.557127   \n",
       "\n",
       "                        bbandsu   bbandsb   bbandsp  buy_signal  sell_signal  \n",
       "date                                                                          \n",
       "2023-08-21 19:55:00  406.904417  0.176080  0.197570       False        False  \n",
       "2023-08-21 19:56:00  406.846146  0.160528  0.316331       False        False  \n",
       "2023-08-21 19:57:00  406.993770  0.200908  0.860724       False        False  \n",
       "2023-08-21 19:58:00  406.952133  0.188066  0.408683       False        False  \n",
       "2023-08-21 19:59:00  406.938704  0.187711  0.425143       False        False  \n",
       "\n",
       "[5 rows x 23 columns]"
      ]
     },
     "execution_count": 494,
     "metadata": {},
     "output_type": "execute_result"
    }
   ],
   "source": [
    "newdf.tail()"
   ]
  },
  {
   "cell_type": "code",
   "execution_count": 511,
   "metadata": {},
   "outputs": [],
   "source": [
    "signalsdf = get_signals_rsi(newdf)"
   ]
  },
  {
   "cell_type": "code",
   "execution_count": 566,
   "metadata": {},
   "outputs": [],
   "source": [
    "def get_trades(get_signals_df):\n",
    "    trades = []\n",
    "    current_trade = {'active': False}\n",
    "    \n",
    "    for index, row in get_signals_df.iterrows():\n",
    "        close = row['close']\n",
    "        rsi = row['rsi']\n",
    "        buy_signal = row['buy_signal']\n",
    "        sell_signal = row['sell_signal']\n",
    "        if buy_signal and not current_trade['active']:\n",
    "            current_trade = {'active': True, 'buy_date': index, 'buy_price': close, 'rsi_at_buy': rsi}\n",
    "\n",
    "        elif sell_signal and current_trade['active']:\n",
    "            current_trade['sell_date'] = index\n",
    "            current_trade['sell_price'] = close\n",
    "            current_trade['rsi_at_sell'] = rsi\n",
    "            current_trade['profit'] = close - current_trade['buy_price'] \n",
    "            trades.append(current_trade)\n",
    "            current_trade = {'active': False}\n",
    "    \n",
    "    return pd.DataFrame(trades)\n",
    "\n",
    "def get_trades_GC(get_signals_df):\n",
    "    trades = []\n",
    "    current_trade = {'active': False}\n",
    "    \n",
    "    for index, row in get_signals_df.iterrows():\n",
    "        close = row['close']\n",
    "        buy_signal = row['buy_signal']\n",
    "        sell_signal = row['sell_signal']\n",
    "        if buy_signal and not current_trade['active']:\n",
    "            current_trade = {'active': True, 'buy_date': index, 'buy_price': close, }\n",
    "\n",
    "        elif sell_signal and current_trade['active']:\n",
    "            current_trade['sell_date'] = index\n",
    "            current_trade['sell_price'] = close\n",
    "            current_trade['profit'] = close - current_trade['buy_price'] \n",
    "            trades.append(current_trade)\n",
    "            current_trade = {'active': False}\n",
    "    \n",
    "    return pd.DataFrame(trades)\n",
    "    \n",
    "def calc_profit(df):\n",
    "\n",
    "    total_profit = df['profit'].sum()\n",
    "    print(\"Total Profit:\", total_profit)"
   ]
  },
  {
   "cell_type": "code",
   "execution_count": 567,
   "metadata": {},
   "outputs": [
    {
     "data": {
      "text/html": [
       "<div>\n",
       "<style scoped>\n",
       "    .dataframe tbody tr th:only-of-type {\n",
       "        vertical-align: middle;\n",
       "    }\n",
       "\n",
       "    .dataframe tbody tr th {\n",
       "        vertical-align: top;\n",
       "    }\n",
       "\n",
       "    .dataframe thead th {\n",
       "        text-align: right;\n",
       "    }\n",
       "</style>\n",
       "<table border=\"1\" class=\"dataframe\">\n",
       "  <thead>\n",
       "    <tr style=\"text-align: right;\">\n",
       "      <th></th>\n",
       "      <th>close</th>\n",
       "      <th>rsi</th>\n",
       "      <th>buy_signal</th>\n",
       "      <th>sell_signal</th>\n",
       "    </tr>\n",
       "    <tr>\n",
       "      <th>date</th>\n",
       "      <th></th>\n",
       "      <th></th>\n",
       "      <th></th>\n",
       "      <th></th>\n",
       "    </tr>\n",
       "  </thead>\n",
       "  <tbody>\n",
       "    <tr>\n",
       "      <th>2023-08-21 19:55:00</th>\n",
       "      <td>406.33</td>\n",
       "      <td>45.857476</td>\n",
       "      <td>False</td>\n",
       "      <td>False</td>\n",
       "    </tr>\n",
       "    <tr>\n",
       "      <th>2023-08-21 19:56:00</th>\n",
       "      <td>406.40</td>\n",
       "      <td>46.380629</td>\n",
       "      <td>False</td>\n",
       "      <td>False</td>\n",
       "    </tr>\n",
       "    <tr>\n",
       "      <th>2023-08-21 19:57:00</th>\n",
       "      <td>406.88</td>\n",
       "      <td>49.820066</td>\n",
       "      <td>False</td>\n",
       "      <td>False</td>\n",
       "    </tr>\n",
       "    <tr>\n",
       "      <th>2023-08-21 19:58:00</th>\n",
       "      <td>406.50</td>\n",
       "      <td>47.333501</td>\n",
       "      <td>False</td>\n",
       "      <td>False</td>\n",
       "    </tr>\n",
       "    <tr>\n",
       "      <th>2023-08-21 19:59:00</th>\n",
       "      <td>406.50</td>\n",
       "      <td>47.333501</td>\n",
       "      <td>False</td>\n",
       "      <td>False</td>\n",
       "    </tr>\n",
       "  </tbody>\n",
       "</table>\n",
       "</div>"
      ],
      "text/plain": [
       "                      close        rsi  buy_signal  sell_signal\n",
       "date                                                           \n",
       "2023-08-21 19:55:00  406.33  45.857476       False        False\n",
       "2023-08-21 19:56:00  406.40  46.380629       False        False\n",
       "2023-08-21 19:57:00  406.88  49.820066       False        False\n",
       "2023-08-21 19:58:00  406.50  47.333501       False        False\n",
       "2023-08-21 19:59:00  406.50  47.333501       False        False"
      ]
     },
     "execution_count": 567,
     "metadata": {},
     "output_type": "execute_result"
    }
   ],
   "source": [
    "signalsdf.tail()"
   ]
  },
  {
   "cell_type": "code",
   "execution_count": 568,
   "metadata": {},
   "outputs": [],
   "source": [
    "tradesdf = get_trades(signalsdf)"
   ]
  },
  {
   "cell_type": "code",
   "execution_count": 580,
   "metadata": {},
   "outputs": [
    {
     "data": {
      "text/html": [
       "<div>\n",
       "<style scoped>\n",
       "    .dataframe tbody tr th:only-of-type {\n",
       "        vertical-align: middle;\n",
       "    }\n",
       "\n",
       "    .dataframe tbody tr th {\n",
       "        vertical-align: top;\n",
       "    }\n",
       "\n",
       "    .dataframe thead th {\n",
       "        text-align: right;\n",
       "    }\n",
       "</style>\n",
       "<table border=\"1\" class=\"dataframe\">\n",
       "  <thead>\n",
       "    <tr style=\"text-align: right;\">\n",
       "      <th></th>\n",
       "      <th>active</th>\n",
       "      <th>buy_date</th>\n",
       "      <th>buy_price</th>\n",
       "      <th>rsi_at_buy</th>\n",
       "      <th>sell_date</th>\n",
       "      <th>sell_price</th>\n",
       "      <th>rsi_at_sell</th>\n",
       "      <th>profit</th>\n",
       "    </tr>\n",
       "  </thead>\n",
       "  <tbody>\n",
       "    <tr>\n",
       "      <th>0</th>\n",
       "      <td>True</td>\n",
       "      <td>2023-08-21 08:01:00</td>\n",
       "      <td>402.64</td>\n",
       "      <td>25.025194</td>\n",
       "      <td>2023-08-21 12:16:00</td>\n",
       "      <td>403.3</td>\n",
       "      <td>60.035784</td>\n",
       "      <td>0.66</td>\n",
       "    </tr>\n",
       "  </tbody>\n",
       "</table>\n",
       "</div>"
      ],
      "text/plain": [
       "   active            buy_date  buy_price  rsi_at_buy           sell_date  \\\n",
       "0    True 2023-08-21 08:01:00     402.64   25.025194 2023-08-21 12:16:00   \n",
       "\n",
       "   sell_price  rsi_at_sell  profit  \n",
       "0       403.3    60.035784    0.66  "
      ]
     },
     "execution_count": 580,
     "metadata": {},
     "output_type": "execute_result"
    }
   ],
   "source": [
    "tradesdf.head()"
   ]
  },
  {
   "cell_type": "code",
   "execution_count": 570,
   "metadata": {},
   "outputs": [
    {
     "name": "stdout",
     "output_type": "stream",
     "text": [
      "Total Profit: 0.660000000000025\n"
     ]
    }
   ],
   "source": [
    "calc_profit(tradesdf)"
   ]
  },
  {
   "cell_type": "code",
   "execution_count": 590,
   "metadata": {},
   "outputs": [],
   "source": [
    "#help(ta.xsignals)"
   ]
  },
  {
   "cell_type": "code",
   "execution_count": 581,
   "metadata": {},
   "outputs": [
    {
     "name": "stdout",
     "output_type": "stream",
     "text": [
      "Total Profit: -9.294999999999959\n"
     ]
    }
   ],
   "source": [
    "calc_profit(get_trades_GC(get_signals_GC(newdf)))"
   ]
  },
  {
   "cell_type": "code",
   "execution_count": 598,
   "metadata": {},
   "outputs": [],
   "source": [
    "# boilinger bands \n",
    "import matplotlib.pyplot as plt\n",
    "bbdf = newdf.copy()"
   ]
  },
  {
   "cell_type": "code",
   "execution_count": 603,
   "metadata": {},
   "outputs": [
    {
     "data": {
      "text/html": [
       "<div>\n",
       "<style scoped>\n",
       "    .dataframe tbody tr th:only-of-type {\n",
       "        vertical-align: middle;\n",
       "    }\n",
       "\n",
       "    .dataframe tbody tr th {\n",
       "        vertical-align: top;\n",
       "    }\n",
       "\n",
       "    .dataframe thead th {\n",
       "        text-align: right;\n",
       "    }\n",
       "</style>\n",
       "<table border=\"1\" class=\"dataframe\">\n",
       "  <thead>\n",
       "    <tr style=\"text-align: right;\">\n",
       "      <th></th>\n",
       "      <th>open</th>\n",
       "      <th>high</th>\n",
       "      <th>low</th>\n",
       "      <th>close</th>\n",
       "      <th>volume</th>\n",
       "      <th>obv</th>\n",
       "      <th>ad</th>\n",
       "      <th>adx</th>\n",
       "      <th>dmp</th>\n",
       "      <th>dmn</th>\n",
       "      <th>...</th>\n",
       "      <th>rsi</th>\n",
       "      <th>stochk</th>\n",
       "      <th>stochd</th>\n",
       "      <th>bbandsl</th>\n",
       "      <th>bbandsm</th>\n",
       "      <th>bbandsu</th>\n",
       "      <th>bbandsb</th>\n",
       "      <th>bbandsp</th>\n",
       "      <th>buy_signal</th>\n",
       "      <th>sell_signal</th>\n",
       "    </tr>\n",
       "    <tr>\n",
       "      <th>date</th>\n",
       "      <th></th>\n",
       "      <th></th>\n",
       "      <th></th>\n",
       "      <th></th>\n",
       "      <th></th>\n",
       "      <th></th>\n",
       "      <th></th>\n",
       "      <th></th>\n",
       "      <th></th>\n",
       "      <th></th>\n",
       "      <th></th>\n",
       "      <th></th>\n",
       "      <th></th>\n",
       "      <th></th>\n",
       "      <th></th>\n",
       "      <th></th>\n",
       "      <th></th>\n",
       "      <th></th>\n",
       "      <th></th>\n",
       "      <th></th>\n",
       "      <th></th>\n",
       "    </tr>\n",
       "  </thead>\n",
       "  <tbody>\n",
       "    <tr>\n",
       "      <th>2023-08-21 04:00:00</th>\n",
       "      <td>404.60</td>\n",
       "      <td>405.47</td>\n",
       "      <td>404.50</td>\n",
       "      <td>405.47</td>\n",
       "      <td>165.0</td>\n",
       "      <td>-2595858.0</td>\n",
       "      <td>-1.175616e+06</td>\n",
       "      <td>15.752876</td>\n",
       "      <td>47.792103</td>\n",
       "      <td>21.352989</td>\n",
       "      <td>...</td>\n",
       "      <td>59.533742</td>\n",
       "      <td>96.581197</td>\n",
       "      <td>77.350427</td>\n",
       "      <td>403.887898</td>\n",
       "      <td>404.699194</td>\n",
       "      <td>405.510489</td>\n",
       "      <td>0.400938</td>\n",
       "      <td>0.975046</td>\n",
       "      <td>False</td>\n",
       "      <td>False</td>\n",
       "    </tr>\n",
       "    <tr>\n",
       "      <th>2023-08-21 04:01:00</th>\n",
       "      <td>405.03</td>\n",
       "      <td>405.64</td>\n",
       "      <td>405.03</td>\n",
       "      <td>405.64</td>\n",
       "      <td>136.0</td>\n",
       "      <td>-2595722.0</td>\n",
       "      <td>-1.175480e+06</td>\n",
       "      <td>17.589663</td>\n",
       "      <td>45.392323</td>\n",
       "      <td>18.780995</td>\n",
       "      <td>...</td>\n",
       "      <td>60.668727</td>\n",
       "      <td>100.000000</td>\n",
       "      <td>93.660969</td>\n",
       "      <td>403.877713</td>\n",
       "      <td>404.870249</td>\n",
       "      <td>405.862786</td>\n",
       "      <td>0.490299</td>\n",
       "      <td>0.887769</td>\n",
       "      <td>False</td>\n",
       "      <td>False</td>\n",
       "    </tr>\n",
       "    <tr>\n",
       "      <th>2023-08-21 04:02:00</th>\n",
       "      <td>406.26</td>\n",
       "      <td>406.29</td>\n",
       "      <td>406.00</td>\n",
       "      <td>406.18</td>\n",
       "      <td>210.0</td>\n",
       "      <td>-2595512.0</td>\n",
       "      <td>-1.175429e+06</td>\n",
       "      <td>20.036179</td>\n",
       "      <td>52.023734</td>\n",
       "      <td>16.500281</td>\n",
       "      <td>...</td>\n",
       "      <td>63.987785</td>\n",
       "      <td>98.391813</td>\n",
       "      <td>98.324336</td>\n",
       "      <td>403.803898</td>\n",
       "      <td>405.108386</td>\n",
       "      <td>406.412874</td>\n",
       "      <td>0.644019</td>\n",
       "      <td>0.910741</td>\n",
       "      <td>False</td>\n",
       "      <td>False</td>\n",
       "    </tr>\n",
       "    <tr>\n",
       "      <th>2023-08-21 04:03:00</th>\n",
       "      <td>405.68</td>\n",
       "      <td>405.68</td>\n",
       "      <td>405.68</td>\n",
       "      <td>405.68</td>\n",
       "      <td>21.0</td>\n",
       "      <td>-2595533.0</td>\n",
       "      <td>-1.175429e+06</td>\n",
       "      <td>21.376426</td>\n",
       "      <td>47.268564</td>\n",
       "      <td>20.841938</td>\n",
       "      <td>...</td>\n",
       "      <td>59.202412</td>\n",
       "      <td>89.473684</td>\n",
       "      <td>95.955166</td>\n",
       "      <td>403.874308</td>\n",
       "      <td>405.212316</td>\n",
       "      <td>406.550323</td>\n",
       "      <td>0.660398</td>\n",
       "      <td>0.674769</td>\n",
       "      <td>False</td>\n",
       "      <td>False</td>\n",
       "    </tr>\n",
       "    <tr>\n",
       "      <th>2023-08-21 04:04:00</th>\n",
       "      <td>405.72</td>\n",
       "      <td>405.72</td>\n",
       "      <td>405.64</td>\n",
       "      <td>405.72</td>\n",
       "      <td>148.0</td>\n",
       "      <td>-2595385.0</td>\n",
       "      <td>-1.175281e+06</td>\n",
       "      <td>22.620941</td>\n",
       "      <td>46.535647</td>\n",
       "      <td>20.518776</td>\n",
       "      <td>...</td>\n",
       "      <td>59.453362</td>\n",
       "      <td>81.140351</td>\n",
       "      <td>89.668616</td>\n",
       "      <td>404.028719</td>\n",
       "      <td>405.304622</td>\n",
       "      <td>406.580525</td>\n",
       "      <td>0.629602</td>\n",
       "      <td>0.662778</td>\n",
       "      <td>False</td>\n",
       "      <td>False</td>\n",
       "    </tr>\n",
       "  </tbody>\n",
       "</table>\n",
       "<p>5 rows × 23 columns</p>\n",
       "</div>"
      ],
      "text/plain": [
       "                       open    high     low   close  volume        obv  \\\n",
       "date                                                                     \n",
       "2023-08-21 04:00:00  404.60  405.47  404.50  405.47   165.0 -2595858.0   \n",
       "2023-08-21 04:01:00  405.03  405.64  405.03  405.64   136.0 -2595722.0   \n",
       "2023-08-21 04:02:00  406.26  406.29  406.00  406.18   210.0 -2595512.0   \n",
       "2023-08-21 04:03:00  405.68  405.68  405.68  405.68    21.0 -2595533.0   \n",
       "2023-08-21 04:04:00  405.72  405.72  405.64  405.72   148.0 -2595385.0   \n",
       "\n",
       "                               ad        adx        dmp        dmn  ...  \\\n",
       "date                                                                ...   \n",
       "2023-08-21 04:00:00 -1.175616e+06  15.752876  47.792103  21.352989  ...   \n",
       "2023-08-21 04:01:00 -1.175480e+06  17.589663  45.392323  18.780995  ...   \n",
       "2023-08-21 04:02:00 -1.175429e+06  20.036179  52.023734  16.500281  ...   \n",
       "2023-08-21 04:03:00 -1.175429e+06  21.376426  47.268564  20.841938  ...   \n",
       "2023-08-21 04:04:00 -1.175281e+06  22.620941  46.535647  20.518776  ...   \n",
       "\n",
       "                           rsi      stochk     stochd     bbandsl     bbandsm  \\\n",
       "date                                                                            \n",
       "2023-08-21 04:00:00  59.533742   96.581197  77.350427  403.887898  404.699194   \n",
       "2023-08-21 04:01:00  60.668727  100.000000  93.660969  403.877713  404.870249   \n",
       "2023-08-21 04:02:00  63.987785   98.391813  98.324336  403.803898  405.108386   \n",
       "2023-08-21 04:03:00  59.202412   89.473684  95.955166  403.874308  405.212316   \n",
       "2023-08-21 04:04:00  59.453362   81.140351  89.668616  404.028719  405.304622   \n",
       "\n",
       "                        bbandsu   bbandsb   bbandsp  buy_signal  sell_signal  \n",
       "date                                                                          \n",
       "2023-08-21 04:00:00  405.510489  0.400938  0.975046       False        False  \n",
       "2023-08-21 04:01:00  405.862786  0.490299  0.887769       False        False  \n",
       "2023-08-21 04:02:00  406.412874  0.644019  0.910741       False        False  \n",
       "2023-08-21 04:03:00  406.550323  0.660398  0.674769       False        False  \n",
       "2023-08-21 04:04:00  406.580525  0.629602  0.662778       False        False  \n",
       "\n",
       "[5 rows x 23 columns]"
      ]
     },
     "execution_count": 603,
     "metadata": {},
     "output_type": "execute_result"
    }
   ],
   "source": [
    "bbdf.head() # use bbandsl bbandsm bbandsu bbandsb bbandsp\n",
    "# aka LOW MID UP"
   ]
  },
  {
   "cell_type": "code",
   "execution_count": 608,
   "metadata": {},
   "outputs": [
    {
     "data": {
      "image/png": "[encoded data removed]",
      "text/plain": [
       "<Figure size 1200x600 with 1 Axes>"
      ]
     },
     "metadata": {},
     "output_type": "display_data"
    }
   ],
   "source": [
    "# Plot the data and Bollinger Bands\n",
    "plt.figure(figsize=(12, 6))\n",
    "plt.plot(bbdf.index, bbdf['close'], label='Close Price')\n",
    "plt.plot(bbdf.index, bbdf['bbandsu'], label='Bollinger Upper Band', linestyle='solid')\n",
    "plt.plot(bbdf.index, bbdf['bbandsm'], label='Bollinger Middle Band', linestyle='solid')\n",
    "plt.plot(bbdf.index, bbdf['bbandsl'], label='Bollinger Lower Band', linestyle='solid')\n",
    "\n",
    "plt.title('Bollinger Bands')\n",
    "plt.xlabel('Date')\n",
    "plt.ylabel('Price')\n",
    "plt.legend()\n",
    "plt.grid(True)\n",
    "plt.show()"
   ]
  },
  {
   "cell_type": "markdown",
   "metadata": {},
   "source": [
    "model 1: linear regression "
   ]
  },
  {
   "cell_type": "code",
   "execution_count": null,
   "metadata": {},
   "outputs": [],
   "source": [
    "import matplotlib.pyplot as plt\n",
    "import numpy as np\n",
    "import pandas as pd\n",
    "import sklearn.linear_model\n",
    "\n",
    "# prep df\n",
    "X = np.c_[df[\"rsi\"]]\n",
    "y = np.c_[df[\"close\"]]\n"
   ]
  },
  {
   "cell_type": "code",
   "execution_count": null,
   "metadata": {},
   "outputs": [],
   "source": [
    "# visualize data\n",
    "df.plot(kind='scatter', x='rsi', y='close')\n",
    "plt.show()"
   ]
  },
  {
   "cell_type": "code",
   "execution_count": null,
   "metadata": {},
   "outputs": [],
   "source": [
    "# choose model\n",
    "model = sklearn.linear_model.LinearRegression()\n"
   ]
  },
  {
   "cell_type": "code",
   "execution_count": null,
   "metadata": {},
   "outputs": [],
   "source": [
    "# train model\n",
    "model.fit(X,y)"
   ]
  },
  {
   "cell_type": "code",
   "execution_count": null,
   "metadata": {},
   "outputs": [],
   "source": [
    "# make prediction\n",
    "X_new = [[34]] # random rsi of 99\n",
    "print(model.predict(X_new))"
   ]
  },
  {
   "cell_type": "markdown",
   "metadata": {},
   "source": [
    "model 2: KNN "
   ]
  },
  {
   "cell_type": "code",
   "execution_count": null,
   "metadata": {},
   "outputs": [],
   "source": [
    "import sklearn.neighbors\n",
    "model2 = sklearn.neighbors.KNeighborsRegressor(n_neighbors=3)\n"
   ]
  },
  {
   "cell_type": "code",
   "execution_count": null,
   "metadata": {},
   "outputs": [],
   "source": [
    "model2.fit(X,y)"
   ]
  },
  {
   "cell_type": "code",
   "execution_count": null,
   "metadata": {},
   "outputs": [],
   "source": [
    "# make prediction\n",
    "X_new = [[34]] # random rsi of 99\n",
    "print(model.predict(X_new))"
   ]
  },
  {
   "cell_type": "code",
   "execution_count": null,
   "metadata": {},
   "outputs": [],
   "source": [
    "df.hist(bins=50, figsize=(20,15))\n",
    "plt.show()\n"
   ]
  },
  {
   "cell_type": "code",
   "execution_count": null,
   "metadata": {},
   "outputs": [],
   "source": [
    "from sklearn.model_selection import train_test_split\n",
    "train_set, test_set = train_test_split(df, test_size=0.2, random_state=42)"
   ]
  },
  {
   "cell_type": "code",
   "execution_count": null,
   "metadata": {},
   "outputs": [],
   "source": [
    "test_set"
   ]
  },
  {
   "cell_type": "code",
   "execution_count": null,
   "metadata": {},
   "outputs": [],
   "source": [
    "temp = train_set.copy()"
   ]
  },
  {
   "cell_type": "code",
   "execution_count": null,
   "metadata": {},
   "outputs": [],
   "source": [
    "temp.plot(kind='scatter', x='rsi', y='close', alpha=0.05)"
   ]
  },
  {
   "cell_type": "code",
   "execution_count": null,
   "metadata": {},
   "outputs": [],
   "source": [
    "temp['sma2'] = temp.ta.sma(2)\n",
    "temp['sma6'] = temp.ta.sma(6)\n",
    "temp['logreturn'] = temp.ta.log_return()"
   ]
  },
  {
   "cell_type": "code",
   "execution_count": null,
   "metadata": {},
   "outputs": [],
   "source": [
    "temp.head()"
   ]
  },
  {
   "cell_type": "code",
   "execution_count": null,
   "metadata": {},
   "outputs": [],
   "source": [
    "temp.head()"
   ]
  },
  {
   "cell_type": "markdown",
   "metadata": {},
   "source": [
    "Looking for correlations: two ways"
   ]
  },
  {
   "cell_type": "code",
   "execution_count": null,
   "metadata": {},
   "outputs": [],
   "source": [
    "correlation_matrix = temp.corr()"
   ]
  },
  {
   "cell_type": "code",
   "execution_count": null,
   "metadata": {},
   "outputs": [],
   "source": [
    "correlation_matrix[\"close\"].sort_values(ascending=False)\n",
    "# here we can see the correlation between the close price and the other features\n",
    "# this could help us in deciding which columns to keep\n",
    "# value between -1 and 1\n"
   ]
  },
  {
   "cell_type": "code",
   "execution_count": null,
   "metadata": {},
   "outputs": [],
   "source": [
    "from pandas.plotting import scatter_matrix\n",
    "attributes = [\"close\", \"sma2\", \"rsi\",\n",
    " \"logreturn\"]\n",
    "scatter_matrix(temp[attributes], figsize=(12, 8))"
   ]
  },
  {
   "cell_type": "markdown",
   "metadata": {},
   "source": [
    "Prepare the data for ML algorithms"
   ]
  },
  {
   "cell_type": "markdown",
   "metadata": {},
   "source": [
    "1 Clean the data"
   ]
  },
  {
   "cell_type": "code",
   "execution_count": null,
   "metadata": {},
   "outputs": [],
   "source": [
    "from sklearn.preprocessing import StandardScaler"
   ]
  },
  {
   "cell_type": "markdown",
   "metadata": {},
   "source": [
    "SELECT AND TRAIN A MODEL"
   ]
  },
  {
   "cell_type": "markdown",
   "metadata": {},
   "source": [
    "1 TRAINING AND EVALUATING ON THE TRAINING SET"
   ]
  },
  {
   "cell_type": "code",
   "execution_count": null,
   "metadata": {},
   "outputs": [],
   "source": [
    "from sklearn.linear_model import LinearRegression\n",
    "lin_reg = LinearRegression()\n",
    "X = train_set.copy()\n",
    "y = np.c_[train_set[\"close\"]]\n",
    "lin_reg.fit(X, y)\n",
    "some_X = X[:5]\n",
    "some_y = y[:5]\n"
   ]
  },
  {
   "cell_type": "code",
   "execution_count": null,
   "metadata": {},
   "outputs": [],
   "source": [
    "def print_preds(model, someX, somey):\n",
    "    for i in range(len(someX)):\n",
    "        print('Prediction: ' , model.predict(someX[[i]]))\n",
    "        print('Actual value: ', somey[i][0], '\\n')    "
   ]
  },
  {
   "cell_type": "code",
   "execution_count": null,
   "metadata": {},
   "outputs": [],
   "source": [
    "print_preds(lin_reg, some_X, some_y)"
   ]
  },
  {
   "cell_type": "code",
   "execution_count": null,
   "metadata": {},
   "outputs": [],
   "source": [
    "# we measure the RMSE on the whole training set\n",
    "# this RMSE is the score on the training set\n",
    "from sklearn.metrics import mean_squared_error\n",
    "def print_rmse(model, X, y):\n",
    "    preds = model.predict(X)\n",
    "    rmse = mean_squared_error(y, preds)\n",
    "    rmse = np.sqrt(rmse)\n",
    "    print(rmse)\n",
    "print_rmse(lin_reg, X, y)\n"
   ]
  },
  {
   "cell_type": "markdown",
   "metadata": {},
   "source": [
    "Now we calculate the RMSE with another model"
   ]
  },
  {
   "cell_type": "code",
   "execution_count": null,
   "metadata": {},
   "outputs": [],
   "source": [
    "from sklearn.tree import DecisionTreeRegressor\n",
    "tree_reg = DecisionTreeRegressor()\n",
    "tree_reg.fit(X, y)"
   ]
  },
  {
   "cell_type": "code",
   "execution_count": null,
   "metadata": {},
   "outputs": [],
   "source": [
    "print_rmse(tree_reg, X, y)"
   ]
  },
  {
   "cell_type": "markdown",
   "metadata": {},
   "source": [
    "This looks much better but its only on the training data so most likely its been too overfitted.\n",
    "\n",
    "Next we do K-fold cross validation ** insert some reasonings here **\n"
   ]
  },
  {
   "cell_type": "code",
   "execution_count": null,
   "metadata": {},
   "outputs": [],
   "source": [
    "from sklearn.model_selection import cross_val_score\n",
    "scores = cross_val_score(tree_reg, X, y, scoring='neg_mean_squared_error', cv=10)\n",
    "tree_rmse_scores = np.sqrt(-scores)"
   ]
  },
  {
   "cell_type": "code",
   "execution_count": null,
   "metadata": {},
   "outputs": [],
   "source": [
    "# these are the RMSE scores on the validation sets\n",
    "def display_scores(scores):\n",
    "    print('Scores: ', scores)\n",
    "    print('Mean: ', scores.mean())\n",
    "    print('Standard deviation: ', scores.std())"
   ]
  },
  {
   "cell_type": "code",
   "execution_count": null,
   "metadata": {},
   "outputs": [],
   "source": [
    "display_scores(tree_rmse_scores)"
   ]
  },
  {
   "cell_type": "markdown",
   "metadata": {},
   "source": [
    "Now we can see how the performance of thre decision tree regressing model is actually worse than just a normal linear regression, this information we obtained by performing cross validation.\n",
    "The bad part is that this is really costly as we train the model a lot of times and not just once.\n",
    "But the good part is that we can find that the model isnt actually good before we continue with it for further testing it and deploying it. It gives us a clear indiciation of its performance at the training stage."
   ]
  },
  {
   "cell_type": "code",
   "execution_count": null,
   "metadata": {},
   "outputs": [],
   "source": [
    "lin_scores = cross_val_score(lin_reg, X, y, scoring='neg_mean_squared_error', cv=10)\n",
    "lin_rmse_scores = np.sqrt(-lin_scores)"
   ]
  },
  {
   "cell_type": "code",
   "execution_count": null,
   "metadata": {},
   "outputs": [],
   "source": [
    "display_scores(lin_rmse_scores)"
   ]
  },
  {
   "cell_type": "markdown",
   "metadata": {},
   "source": [
    "Conclusion: if the RMSE on the training data is much less than the mean RMSE on the validaiton sets, then that means that we still have the issue that the model is overfitting on the training data."
   ]
  },
  {
   "cell_type": "markdown",
   "metadata": {},
   "source": [
    "8 Finetuning the models with 1. GridSearch"
   ]
  },
  {
   "cell_type": "code",
   "execution_count": null,
   "metadata": {},
   "outputs": [],
   "source": [
    "# Using GridSearch we can automate the process to find the best combination of hyperparameters.\n",
    "from sklearn.model_selection import GridSearchCV\n",
    "\n",
    "\n",
    "#for example here we will use the GridSearch for the lin_reg model we created earlier\n",
    "# write later when internet"
   ]
  },
  {
   "cell_type": "markdown",
   "metadata": {},
   "source": [
    "2 With Randomized Search"
   ]
  },
  {
   "cell_type": "markdown",
   "metadata": {},
   "source": [
    "3 With Ensemble Methods: here we combine the models that peform the best by grouping them. The performance is usually beter than individual models. "
   ]
  },
  {
   "cell_type": "markdown",
   "metadata": {},
   "source": [
    "With gridsearch we can not only find the best combination of parameters, but we can also see the relative importance of each feature in predicting the desired value. ** check again page 82 **"
   ]
  },
  {
   "cell_type": "markdown",
   "metadata": {},
   "source": [
    "Evaluate the model on the Test set"
   ]
  },
  {
   "cell_type": "code",
   "execution_count": null,
   "metadata": {},
   "outputs": [],
   "source": [
    "# final model = grid_search.best_estimator_\n",
    "# X_test = test_set.drop(\"close\", axis=1)\n",
    "# y_test = test_set[\"close\"].copy()\n",
    "# final_predictions = final_model.predict(X_test)\n",
    "# final_mse = mean_squared_error(y_test, final_predictions)\n",
    "# final_rmse = np.sqrt(final_mse)"
   ]
  },
  {
   "cell_type": "markdown",
   "metadata": {},
   "source": [
    "CLASSIFICATION **read pages 94 **"
   ]
  },
  {
   "cell_type": "code",
   "execution_count": null,
   "metadata": {},
   "outputs": [],
   "source": [
    "from sklearn.model_selection import cross_val_predict\n",
    "# y_train_pred = cross_val_predict(sgd_clf, X_train, y_train_5, cv=3)"
   ]
  },
  {
   "cell_type": "markdown",
   "metadata": {},
   "source": [
    "TRAINING MODELS CHAPTER 4 (we will train the lin reg again but in two different approaches)\n",
    "1 = like we did earlier, just train it and make sure to minimize the cost function (alrdy trained)\n",
    "2 = Gradient Descent; gradually improving the model by doing it iteratively (will train in GD)\n",
    "\n",
    "Training a model means setting the parameters in a way that allows the model to best fit the training set. Most common way to do this is by the RMSE. \n",
    "** GD BELOW **"
   ]
  },
  {
   "cell_type": "code",
   "execution_count": null,
   "metadata": {},
   "outputs": [],
   "source": [
    "# Gradient Descent finds the best parameters iteratively in order to minimize the cost function\n",
    "# Important to use StandardScaler on the features when using GD\n",
    "# Most important param of GD is the learning_rate (use GridSearch to find it !)\n",
    "# A learning rate too low will take too long to find the global minimum\n",
    "# A learning rate too high on the other hand will jump around too much and perhaps miss the global minimum"
   ]
  },
  {
   "cell_type": "markdown",
   "metadata": {},
   "source": [
    "There is batch GD but that one requires a lot of iterations before it finds the global minima. On the other hand there is also stochastic GD which is much faster (which is preferred when the dataset has a lot of values) but due to its randomness it will not find the optimal parameters, but really close to them. Another benefit is that it has a better chance of finding the global minimum than batch GD since it can escape the global minima better. The idea behind the stochastic GD is that it starts with a random learning rate and then slowly decreases it.\n"
   ]
  },
  {
   "cell_type": "code",
   "execution_count": null,
   "metadata": {},
   "outputs": [],
   "source": [
    "from sklearn.linear_model import SGDRegressor\n",
    "sgd_reg = SGDRegressor(max_iter=1000, tol=1e-3, penalty=None, eta0=0.1)\n",
    "sgd_reg.fit(X, y.ravel())"
   ]
  },
  {
   "cell_type": "code",
   "execution_count": null,
   "metadata": {},
   "outputs": [],
   "source": [
    "sgd_reg.coef_\n"
   ]
  },
  {
   "cell_type": "markdown",
   "metadata": {},
   "source": [
    "Using logistic regression as a binary classifier"
   ]
  },
  {
   "cell_type": "code",
   "execution_count": null,
   "metadata": {},
   "outputs": [],
   "source": [
    "from sklearn.linear_model import LogisticRegression\n",
    "import pandas_ta as ta\n",
    "log_reg = LogisticRegression()\n",
    "# we do it without train test first\n",
    "# !!! we use single feature close to predict\n",
    "# the roc \n",
    "X_new = df.copy()\n",
    "X_new.ta.roc( 2, append=True)\n",
    "X_new.dropna(inplace=True)\n",
    "X_single_feature = np.c_[X_new[\"close\"]]\n",
    "X_new['price_increased'] = np.where(X_new['ROC_2'] > 0, 1, 0)\n",
    "\n",
    "y_new = np.c_[X_new[\"price_increased\"]]\n"
   ]
  },
  {
   "cell_type": "code",
   "execution_count": null,
   "metadata": {},
   "outputs": [],
   "source": [
    "X_new[900000:900010]"
   ]
  },
  {
   "cell_type": "code",
   "execution_count": null,
   "metadata": {},
   "outputs": [],
   "source": [
    "X_single_feature.shape"
   ]
  },
  {
   "cell_type": "code",
   "execution_count": null,
   "metadata": {},
   "outputs": [],
   "source": [
    "y_new.shape"
   ]
  },
  {
   "cell_type": "code",
   "execution_count": null,
   "metadata": {},
   "outputs": [],
   "source": [
    "X_single_feature"
   ]
  },
  {
   "cell_type": "code",
   "execution_count": null,
   "metadata": {},
   "outputs": [],
   "source": [
    "y_new"
   ]
  },
  {
   "cell_type": "code",
   "execution_count": null,
   "metadata": {},
   "outputs": [],
   "source": [
    "log_reg.fit(X_single_feature, y_new)"
   ]
  },
  {
   "cell_type": "code",
   "execution_count": null,
   "metadata": {},
   "outputs": [],
   "source": [
    "print_rmse(log_reg, X_single_feature, y_new)"
   ]
  },
  {
   "cell_type": "code",
   "execution_count": null,
   "metadata": {},
   "outputs": [],
   "source": [
    "# we do it without train test first\n",
    "# !!! we use multiple features to predict\n",
    "# the roc \n",
    "from sklearn.linear_model import LogisticRegression\n",
    "from sklearn.metrics import accuracy_score\n",
    "\n",
    "log_reg = LogisticRegression()\n",
    "\n",
    "X_new = df.copy()\n",
    "X_new.ta.roc( 2, append=True)\n",
    "X_new.dropna(inplace=True)\n",
    "X_new['price_increased'] = np.where(X_new['ROC_2'] > 0, 1, 0)\n",
    "\n"
   ]
  },
  {
   "cell_type": "code",
   "execution_count": null,
   "metadata": {},
   "outputs": [],
   "source": [
    "\n",
    "\n",
    "# Split the data into features (X) and target variable (y)\n",
    "X = X_new[['close', 'rsi']]\n",
    "y = X_new['price_increased']\n",
    "\n",
    "# Split the data into training and testing sets\n",
    "X_train, X_test, y_train, y_test = train_test_split(X, y, test_size=0.2, random_state=42)\n",
    "\n",
    "# Initialize the logistic regression model\n",
    "model = LogisticRegression()\n",
    "\n",
    "# Train the model on the training data\n",
    "model.fit(X_train, y_train)\n",
    "\n",
    "# Make predictions on the test data\n",
    "predictions = model.predict(X_test)\n",
    "\n",
    "# Calculate the accuracy of the model\n",
    "accuracy = accuracy_score(y_test, predictions)\n",
    "print(\"Accuracy:\", accuracy)\n"
   ]
  },
  {
   "cell_type": "markdown",
   "metadata": {},
   "source": [
    "DECISION TREES"
   ]
  },
  {
   "cell_type": "code",
   "execution_count": null,
   "metadata": {},
   "outputs": [],
   "source": [
    "df = df.ta.ticker(\"aapl\")\n",
    "\n",
    "df = df[10500:10600]\n",
    "\n"
   ]
  },
  {
   "cell_type": "code",
   "execution_count": null,
   "metadata": {},
   "outputs": [],
   "source": [
    "df.info()"
   ]
  },
  {
   "cell_type": "code",
   "execution_count": null,
   "metadata": {},
   "outputs": [],
   "source": [
    "df.head()"
   ]
  },
  {
   "cell_type": "code",
   "execution_count": null,
   "metadata": {},
   "outputs": [],
   "source": [
    "df.ta.strategy(\"Momentum\") # Default values for all Momentum indicators\n"
   ]
  },
  {
   "cell_type": "code",
   "execution_count": null,
   "metadata": {},
   "outputs": [],
   "source": [
    "df.columns"
   ]
  },
  {
   "cell_type": "code",
   "execution_count": null,
   "metadata": {},
   "outputs": [],
   "source": []
  },
  {
   "cell_type": "code",
   "execution_count": null,
   "metadata": {},
   "outputs": [],
   "source": [
    "cor_matrix = df.corr()"
   ]
  },
  {
   "cell_type": "code",
   "execution_count": null,
   "metadata": {},
   "outputs": [],
   "source": [
    "cor_matrix[\"Close\"].sort_values(ascending=False)\n"
   ]
  },
  {
   "cell_type": "code",
   "execution_count": null,
   "metadata": {},
   "outputs": [],
   "source": [
    "doji = df.ta.cdl_pattern(name=\"haramicross\")\n"
   ]
  },
  {
   "cell_type": "code",
   "execution_count": null,
   "metadata": {},
   "outputs": [],
   "source": [
    "doji.value_counts()"
   ]
  },
  {
   "cell_type": "code",
   "execution_count": null,
   "metadata": {},
   "outputs": [],
   "source": [
    "# Convert the DataFrame to the format required by mplfinance\n",
    "ohlc = df[['Open', 'High', 'Low', 'Close']]\n",
    "ohlc.index.name = 'Date'\n",
    "import mplfinance as mpf\n",
    "\n",
    "# Create an array for marker style based on the doji pattern signal\n",
    "\n",
    "# Plot the candlestick chart with the Doji pattern markers\n",
    "mpf.plot(\n",
    "    ohlc, \n",
    "    type='candle', \n",
    "    style='charles', \n",
    "    title='Candlestick Chart with Doji Pattern',\n",
    "    addplot=[\n",
    "        mpf.make_addplot(doji, panel=1, color='g', secondary_y=False)    ]\n",
    ")"
   ]
  }
 ],
 "metadata": {
  "kernelspec": {
   "display_name": "Python 3",
   "language": "python",
   "name": "python3"
  },
  "language_info": {
   "codemirror_mode": {
    "name": "ipython",
    "version": 3
   },
   "file_extension": ".py",
   "mimetype": "text/x-python",
   "name": "python",
   "nbconvert_exporter": "python",
   "pygments_lexer": "ipython3",
   "version": "3.9.10"
  },
  "orig_nbformat": 4
 },
 "nbformat": 4,
 "nbformat_minor": 2
}
