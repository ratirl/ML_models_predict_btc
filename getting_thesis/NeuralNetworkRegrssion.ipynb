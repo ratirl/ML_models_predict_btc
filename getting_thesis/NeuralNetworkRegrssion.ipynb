{
 "cells": [
  {
   "cell_type": "code",
   "execution_count": 1,
   "metadata": {},
   "outputs": [],
   "source": [
    "from sklearn.model_selection import train_test_split\n",
    "from sklearn.linear_model import LinearRegression\n",
    "from sklearn.metrics import mean_squared_error\n",
    "import pandas_ta as ta\n",
    "import pandas as pd\n",
    "import numpy as np\n",
    "import matplotlib.pyplot as plt\n"
   ]
  },
  {
   "cell_type": "code",
   "execution_count": 2,
   "metadata": {},
   "outputs": [],
   "source": [
    "import tensorflow as tf\n",
    "from tensorflow import keras\n"
   ]
  },
  {
   "cell_type": "code",
   "execution_count": 3,
   "metadata": {},
   "outputs": [],
   "source": [
    "df_nflx_intraday = pd.read_csv('data_nflx_intraday.csv', index_col=0, parse_dates=True) # will be our working df\n",
    "df = df_nflx_intraday.copy() # working df\n",
    "df.columns = df.columns.str.lower()"
   ]
  },
  {
   "cell_type": "code",
   "execution_count": 4,
   "metadata": {},
   "outputs": [],
   "source": [
    "df.head()\n",
    "df2 = df.copy()\n",
    "df3 = df.copy()\n",
    "df4 = df.copy()\n",
    "dfx = df.copy()"
   ]
  },
  {
   "cell_type": "code",
   "execution_count": 5,
   "metadata": {},
   "outputs": [
    {
     "name": "stderr",
     "output_type": "stream",
     "text": [
      "63it [00:06, 10.45it/s]\n"
     ]
    },
    {
     "ename": "AttributeError",
     "evalue": "'Series' object has no attribute 'append'",
     "output_type": "error",
     "traceback": [
      "\u001b[1;31m---------------------------------------------------------------------------\u001b[0m",
      "\u001b[1;31mRemoteTraceback\u001b[0m                           Traceback (most recent call last)",
      "\u001b[1;31mRemoteTraceback\u001b[0m: \n\"\"\"\nTraceback (most recent call last):\n  File \"c:\\Users\\ali\\AppData\\Local\\Programs\\Python\\Python39\\lib\\multiprocessing\\pool.py\", line 125, in worker\n    result = (True, func(*args, **kwds))\n  File \"c:\\Users\\ali\\AppData\\Local\\Programs\\Python\\Python39\\lib\\multiprocessing\\pool.py\", line 48, in mapstar\n    return list(map(*args))\n  File \"c:\\Users\\ali\\AppData\\Local\\Programs\\Python\\Python39\\lib\\site-packages\\pandas_ta\\core.py\", line 467, in _mp_worker\n    return getattr(self, method)(*args, **kwargs)\n  File \"c:\\Users\\ali\\AppData\\Local\\Programs\\Python\\Python39\\lib\\site-packages\\pandas_ta\\core.py\", line 1225, in mcgd\n    result = mcgd(close=close, length=length, offset=offset, **kwargs)\n  File \"c:\\Users\\ali\\AppData\\Local\\Programs\\Python\\Python39\\lib\\site-packages\\pandas_ta\\overlap\\mcgd.py\", line 24, in mcgd\n    mcg_ds = close[:1].append(mcg_cell[1:])\n  File \"c:\\Users\\ali\\AppData\\Local\\Programs\\Python\\Python39\\lib\\site-packages\\pandas\\core\\generic.py\", line 5989, in __getattr__\n    return object.__getattribute__(self, name)\nAttributeError: 'Series' object has no attribute 'append'\n\"\"\"",
      "\nThe above exception was the direct cause of the following exception:\n",
      "\u001b[1;31mAttributeError\u001b[0m                            Traceback (most recent call last)",
      "Cell \u001b[1;32mIn[5], line 10\u001b[0m\n\u001b[0;32m      1\u001b[0m \u001b[39m\"\"\" # adding a few indicators\u001b[39;00m\n\u001b[0;32m      2\u001b[0m \u001b[39mdf['rsi'] = ta.rsi(df['close'], length=30)\u001b[39;00m\n\u001b[0;32m      3\u001b[0m \u001b[39mdf['ad'] = ta.ad(df['high'], df['low'], df['close'], df['volume']) # Accumulation/Distribution Line\u001b[39;00m\n\u001b[1;32m   (...)\u001b[0m\n\u001b[0;32m      7\u001b[0m \u001b[39m# getting rid of nan\u001b[39;00m\n\u001b[0;32m      8\u001b[0m \u001b[39mdf.dropna(inplace=True) \"\"\"\u001b[39;00m\n\u001b[1;32m---> 10\u001b[0m df\u001b[39m.\u001b[39;49mta\u001b[39m.\u001b[39;49mstrategy()\n",
      "File \u001b[1;32mc:\\Users\\ali\\AppData\\Local\\Programs\\Python\\Python39\\lib\\site-packages\\pandas_ta\\core.py:792\u001b[0m, in \u001b[0;36mAnalysisIndicators.strategy\u001b[1;34m(self, *args, **kwargs)\u001b[0m\n\u001b[0;32m    789\u001b[0m         \u001b[39mself\u001b[39m\u001b[39m.\u001b[39m_last_run \u001b[39m=\u001b[39m get_time(\u001b[39mself\u001b[39m\u001b[39m.\u001b[39mexchange, to_string\u001b[39m=\u001b[39m\u001b[39mTrue\u001b[39;00m)\n\u001b[0;32m    791\u001b[0m \u001b[39m# Apply prefixes/suffixes and appends indicator results to the  DataFrame\u001b[39;00m\n\u001b[1;32m--> 792\u001b[0m [\u001b[39mself\u001b[39m\u001b[39m.\u001b[39m_post_process(r, \u001b[39m*\u001b[39m\u001b[39m*\u001b[39mkwargs) \u001b[39mfor\u001b[39;00m r \u001b[39min\u001b[39;00m results]\n\u001b[0;32m    794\u001b[0m \u001b[39mif\u001b[39;00m verbose:\n\u001b[0;32m    795\u001b[0m     \u001b[39mprint\u001b[39m(\u001b[39mf\u001b[39m\u001b[39m\"\u001b[39m\u001b[39m[i] Total indicators: \u001b[39m\u001b[39m{\u001b[39;00m\u001b[39mlen\u001b[39m(ta)\u001b[39m}\u001b[39;00m\u001b[39m\"\u001b[39m)\n",
      "File \u001b[1;32mc:\\Users\\ali\\AppData\\Local\\Programs\\Python\\Python39\\lib\\site-packages\\pandas_ta\\core.py:792\u001b[0m, in \u001b[0;36m<listcomp>\u001b[1;34m(.0)\u001b[0m\n\u001b[0;32m    789\u001b[0m         \u001b[39mself\u001b[39m\u001b[39m.\u001b[39m_last_run \u001b[39m=\u001b[39m get_time(\u001b[39mself\u001b[39m\u001b[39m.\u001b[39mexchange, to_string\u001b[39m=\u001b[39m\u001b[39mTrue\u001b[39;00m)\n\u001b[0;32m    791\u001b[0m \u001b[39m# Apply prefixes/suffixes and appends indicator results to the  DataFrame\u001b[39;00m\n\u001b[1;32m--> 792\u001b[0m [\u001b[39mself\u001b[39m\u001b[39m.\u001b[39m_post_process(r, \u001b[39m*\u001b[39m\u001b[39m*\u001b[39mkwargs) \u001b[39mfor\u001b[39;00m r \u001b[39min\u001b[39;00m results]\n\u001b[0;32m    794\u001b[0m \u001b[39mif\u001b[39;00m verbose:\n\u001b[0;32m    795\u001b[0m     \u001b[39mprint\u001b[39m(\u001b[39mf\u001b[39m\u001b[39m\"\u001b[39m\u001b[39m[i] Total indicators: \u001b[39m\u001b[39m{\u001b[39;00m\u001b[39mlen\u001b[39m(ta)\u001b[39m}\u001b[39;00m\u001b[39m\"\u001b[39m)\n",
      "File \u001b[1;32mc:\\Users\\ali\\AppData\\Local\\Programs\\Python\\Python39\\lib\\site-packages\\tqdm\\std.py:1178\u001b[0m, in \u001b[0;36mtqdm.__iter__\u001b[1;34m(self)\u001b[0m\n\u001b[0;32m   1175\u001b[0m time \u001b[39m=\u001b[39m \u001b[39mself\u001b[39m\u001b[39m.\u001b[39m_time\n\u001b[0;32m   1177\u001b[0m \u001b[39mtry\u001b[39;00m:\n\u001b[1;32m-> 1178\u001b[0m     \u001b[39mfor\u001b[39;00m obj \u001b[39min\u001b[39;00m iterable:\n\u001b[0;32m   1179\u001b[0m         \u001b[39myield\u001b[39;00m obj\n\u001b[0;32m   1180\u001b[0m         \u001b[39m# Update and possibly print the progressbar.\u001b[39;00m\n\u001b[0;32m   1181\u001b[0m         \u001b[39m# Note: does not call self.update(1) for speed optimisation.\u001b[39;00m\n",
      "File \u001b[1;32mc:\\Users\\ali\\AppData\\Local\\Programs\\Python\\Python39\\lib\\multiprocessing\\pool.py:420\u001b[0m, in \u001b[0;36m<genexpr>\u001b[1;34m(.0)\u001b[0m\n\u001b[0;32m    412\u001b[0m result \u001b[39m=\u001b[39m IMapIterator(\u001b[39mself\u001b[39m)\n\u001b[0;32m    413\u001b[0m \u001b[39mself\u001b[39m\u001b[39m.\u001b[39m_taskqueue\u001b[39m.\u001b[39mput(\n\u001b[0;32m    414\u001b[0m     (\n\u001b[0;32m    415\u001b[0m         \u001b[39mself\u001b[39m\u001b[39m.\u001b[39m_guarded_task_generation(result\u001b[39m.\u001b[39m_job,\n\u001b[1;32m   (...)\u001b[0m\n\u001b[0;32m    418\u001b[0m         result\u001b[39m.\u001b[39m_set_length\n\u001b[0;32m    419\u001b[0m     ))\n\u001b[1;32m--> 420\u001b[0m \u001b[39mreturn\u001b[39;00m (item \u001b[39mfor\u001b[39;00m chunk \u001b[39min\u001b[39;00m result \u001b[39mfor\u001b[39;00m item \u001b[39min\u001b[39;00m chunk)\n",
      "File \u001b[1;32mc:\\Users\\ali\\AppData\\Local\\Programs\\Python\\Python39\\lib\\multiprocessing\\pool.py:870\u001b[0m, in \u001b[0;36mIMapIterator.next\u001b[1;34m(self, timeout)\u001b[0m\n\u001b[0;32m    868\u001b[0m \u001b[39mif\u001b[39;00m success:\n\u001b[0;32m    869\u001b[0m     \u001b[39mreturn\u001b[39;00m value\n\u001b[1;32m--> 870\u001b[0m \u001b[39mraise\u001b[39;00m value\n",
      "\u001b[1;31mAttributeError\u001b[0m: 'Series' object has no attribute 'append'"
     ]
    }
   ],
   "source": [
    "\"\"\" # adding a few indicators\n",
    "df['rsi'] = ta.rsi(df['close'], length=30)\n",
    "df['ad'] = ta.ad(df['high'], df['low'], df['close'], df['volume']) # Accumulation/Distribution Line\n",
    "bbands = ta.bbands(df['close'], length=10, mamode=\"ema\") #  Returns: pd.DataFrame: lower, mid, upper, bandwidth, and percent columns.\n",
    "df[['bbandsl', 'bbandsm', 'bbandsu','bbandsb', 'bbandsp']] = bbands[['BBL_10_2.0', 'BBM_10_2.0', 'BBU_10_2.0', 'BBB_10_2.0', 'BBP_10_2.0']]\n",
    "\n",
    "# getting rid of nan\n",
    "df.dropna(inplace=True) \"\"\"\n",
    "\n",
    "df.ta.strategy()\n"
   ]
  },
  {
   "cell_type": "code",
   "execution_count": 6,
   "metadata": {},
   "outputs": [
    {
     "name": "stdout",
     "output_type": "stream",
     "text": [
      "<class 'pandas.core.frame.DataFrame'>\n",
      "DatetimeIndex: 17506 entries, 2023-07-27 04:00:00 to 2023-08-24 19:59:00\n",
      "Columns: 176 entries, open to MAD_30\n",
      "dtypes: float64(169), int32(7)\n",
      "memory usage: 23.2 MB\n"
     ]
    }
   ],
   "source": [
    "df.info()\n",
    "df['price_increased'] = np.where(df['close'].diff() > 0, 1, 0)"
   ]
  },
  {
   "cell_type": "code",
   "execution_count": 7,
   "metadata": {},
   "outputs": [
    {
     "name": "stdout",
     "output_type": "stream",
     "text": [
      "Number of columns: 177\n"
     ]
    }
   ],
   "source": [
    "num_columns = df.shape[1]\n",
    "print(\"Number of columns:\", num_columns)"
   ]
  },
  {
   "cell_type": "code",
   "execution_count": 8,
   "metadata": {},
   "outputs": [
    {
     "name": "stdout",
     "output_type": "stream",
     "text": [
      "<class 'pandas.core.frame.DataFrame'>\n",
      "DatetimeIndex: 17506 entries, 2023-07-27 04:00:00 to 2023-08-24 19:59:00\n",
      "Columns: 177 entries, open to price_increased\n",
      "dtypes: float64(169), int32(8)\n",
      "memory usage: 23.2 MB\n"
     ]
    }
   ],
   "source": [
    "df.info()"
   ]
  },
  {
   "cell_type": "code",
   "execution_count": 9,
   "metadata": {},
   "outputs": [],
   "source": [
    "df.dropna(inplace=True)"
   ]
  },
  {
   "cell_type": "code",
   "execution_count": 10,
   "metadata": {},
   "outputs": [
    {
     "name": "stdout",
     "output_type": "stream",
     "text": [
      "<class 'pandas.core.frame.DataFrame'>\n",
      "DatetimeIndex: 4932 entries, 2023-07-27 05:53:00 to 2023-08-24 19:19:00\n",
      "Columns: 177 entries, open to price_increased\n",
      "dtypes: float64(169), int32(8)\n",
      "memory usage: 6.5 MB\n"
     ]
    }
   ],
   "source": [
    "df.info()"
   ]
  },
  {
   "cell_type": "code",
   "execution_count": 11,
   "metadata": {},
   "outputs": [],
   "source": [
    "# dividing X and y\n",
    "X = df.drop(columns=['close'])\n",
    "y = df[['close']]"
   ]
  },
  {
   "cell_type": "code",
   "execution_count": 12,
   "metadata": {},
   "outputs": [],
   "source": [
    "X_train, X_test, y_train, y_test = train_test_split(X, y, test_size=0.2, random_state=42)"
   ]
  },
  {
   "cell_type": "code",
   "execution_count": null,
   "metadata": {},
   "outputs": [],
   "source": [
    "\n"
   ]
  },
  {
   "cell_type": "code",
   "execution_count": 13,
   "metadata": {},
   "outputs": [
    {
     "name": "stdout",
     "output_type": "stream",
     "text": [
      "<class 'pandas.core.frame.DataFrame'>\n",
      "DatetimeIndex: 4932 entries, 2023-07-27 05:53:00 to 2023-08-24 19:19:00\n",
      "Columns: 176 entries, open to price_increased\n",
      "dtypes: float64(168), int32(8)\n",
      "memory usage: 6.5 MB\n"
     ]
    }
   ],
   "source": [
    "X.info()"
   ]
  },
  {
   "cell_type": "code",
   "execution_count": 14,
   "metadata": {},
   "outputs": [],
   "source": [
    "from sklearn.preprocessing import MinMaxScaler\n",
    "scaler = MinMaxScaler()\n",
    "\n",
    "X_train = scaler.fit_transform(X_train)\n",
    "X_test = scaler.fit_transform(X_test)\n"
   ]
  },
  {
   "cell_type": "code",
   "execution_count": 15,
   "metadata": {},
   "outputs": [],
   "source": [
    "num_features = X_train.shape[1]"
   ]
  },
  {
   "cell_type": "code",
   "execution_count": 16,
   "metadata": {},
   "outputs": [],
   "source": [
    "# Creating model using sequential API ** PAGE 296 **\n",
    "model = keras.models.Sequential([\n",
    " keras.layers.Dense(30, activation=\"relu\", input_shape=(num_features,)),\n",
    " keras.layers.Dense(1, activation=\"linear\")\n",
    "])\n"
   ]
  },
  {
   "cell_type": "code",
   "execution_count": 17,
   "metadata": {},
   "outputs": [
    {
     "name": "stdout",
     "output_type": "stream",
     "text": [
      "Epoch 1/20\n",
      "111/111 [==============================] - 0s 2ms/step - loss: 295672384.0000 - val_loss: 238567.6719\n",
      "Epoch 2/20\n",
      "111/111 [==============================] - 0s 737us/step - loss: 53783.0391 - val_loss: 2832.8765\n",
      "Epoch 3/20\n",
      "111/111 [==============================] - 0s 709us/step - loss: 744.2428 - val_loss: 157.3642\n",
      "Epoch 4/20\n",
      "111/111 [==============================] - 0s 718us/step - loss: 140.5345 - val_loss: 124.2412\n",
      "Epoch 5/20\n",
      "111/111 [==============================] - 0s 746us/step - loss: 133.1657 - val_loss: 123.7476\n",
      "Epoch 6/20\n",
      "111/111 [==============================] - 0s 900us/step - loss: 133.0127 - val_loss: 123.7331\n",
      "Epoch 7/20\n",
      "111/111 [==============================] - 0s 882us/step - loss: 133.0664 - val_loss: 123.6831\n",
      "Epoch 8/20\n",
      "111/111 [==============================] - 0s 909us/step - loss: 133.0336 - val_loss: 123.7453\n",
      "Epoch 9/20\n",
      "111/111 [==============================] - 0s 855us/step - loss: 133.0442 - val_loss: 123.7332\n",
      "Epoch 10/20\n",
      "111/111 [==============================] - 0s 864us/step - loss: 133.0331 - val_loss: 123.6417\n",
      "Epoch 11/20\n",
      "111/111 [==============================] - 0s 855us/step - loss: 133.0335 - val_loss: 123.6889\n",
      "Epoch 12/20\n",
      "111/111 [==============================] - 0s 946us/step - loss: 132.9916 - val_loss: 123.6403\n",
      "Epoch 13/20\n",
      "111/111 [==============================] - 0s 891us/step - loss: 133.0561 - val_loss: 123.6785\n",
      "Epoch 14/20\n",
      "111/111 [==============================] - 0s 827us/step - loss: 133.0116 - val_loss: 123.6990\n",
      "Epoch 15/20\n",
      "111/111 [==============================] - 0s 965us/step - loss: 133.0418 - val_loss: 123.6539\n",
      "Epoch 16/20\n",
      "111/111 [==============================] - 0s 975us/step - loss: 132.9931 - val_loss: 123.6427\n",
      "Epoch 17/20\n",
      "111/111 [==============================] - 0s 964us/step - loss: 133.0578 - val_loss: 123.6395\n",
      "Epoch 18/20\n",
      "111/111 [==============================] - 0s 855us/step - loss: 133.0416 - val_loss: 123.6435\n",
      "Epoch 19/20\n",
      "111/111 [==============================] - 0s 837us/step - loss: 133.0358 - val_loss: 123.6483\n",
      "Epoch 20/20\n",
      "111/111 [==============================] - 0s 809us/step - loss: 133.0436 - val_loss: 123.6750\n"
     ]
    }
   ],
   "source": [
    "# Compiling the model\n",
    "model.compile(loss=\"mean_squared_error\", optimizer=\"sgd\")\n",
    "history = model.fit(X_train, y_train, epochs=20,\n",
    "           validation_split=0.1, batch_size=32 )\n"
   ]
  },
  {
   "cell_type": "markdown",
   "metadata": {},
   "source": [
    "Conclusion: this is really good since both the losses are falling and both the accuracies are increasing. And the fact that the curves are really close to each other this means we dont have overfitting happening. \n",
    "If we are not happy with the result we can tune the \n",
    "    hyperparameters ( number of layers, number of neurons per layer, type of activation for each hidden layer, the epochs, batch siz (it can be set in the fit() method using the\n",
    "batch_size argument, which defaults to 32)) "
   ]
  },
  {
   "cell_type": "code",
   "execution_count": 18,
   "metadata": {},
   "outputs": [
    {
     "name": "stdout",
     "output_type": "stream",
     "text": [
      "31/31 [==============================] - 0s 633us/step - loss: 132.3094\n"
     ]
    },
    {
     "data": {
      "text/plain": [
       "132.30938720703125"
      ]
     },
     "execution_count": 18,
     "metadata": {},
     "output_type": "execute_result"
    }
   ],
   "source": [
    "# Evaluating the model\n",
    "model.evaluate(X_test, y_test)"
   ]
  },
  {
   "cell_type": "code",
   "execution_count": 19,
   "metadata": {},
   "outputs": [
    {
     "name": "stdout",
     "output_type": "stream",
     "text": [
      "1/1 [==============================] - 0s 55ms/step\n"
     ]
    },
    {
     "data": {
      "text/plain": [
       "array([[425.12445],\n",
       "       [425.12445]], dtype=float32)"
      ]
     },
     "execution_count": 19,
     "metadata": {},
     "output_type": "execute_result"
    }
   ],
   "source": [
    "# making predictions\n",
    "X_new = X_test[200:202]\n",
    "predictions = model.predict(X_new)\n",
    "predictions\n"
   ]
  },
  {
   "cell_type": "code",
   "execution_count": 20,
   "metadata": {},
   "outputs": [
    {
     "data": {
      "text/html": [
       "<div>\n",
       "<style scoped>\n",
       "    .dataframe tbody tr th:only-of-type {\n",
       "        vertical-align: middle;\n",
       "    }\n",
       "\n",
       "    .dataframe tbody tr th {\n",
       "        vertical-align: top;\n",
       "    }\n",
       "\n",
       "    .dataframe thead th {\n",
       "        text-align: right;\n",
       "    }\n",
       "</style>\n",
       "<table border=\"1\" class=\"dataframe\">\n",
       "  <thead>\n",
       "    <tr style=\"text-align: right;\">\n",
       "      <th></th>\n",
       "      <th>close</th>\n",
       "    </tr>\n",
       "    <tr>\n",
       "      <th>date</th>\n",
       "      <th></th>\n",
       "    </tr>\n",
       "  </thead>\n",
       "  <tbody>\n",
       "    <tr>\n",
       "      <th>2023-08-16 18:26:00</th>\n",
       "      <td>413.49</td>\n",
       "    </tr>\n",
       "    <tr>\n",
       "      <th>2023-08-21 06:57:00</th>\n",
       "      <td>406.50</td>\n",
       "    </tr>\n",
       "  </tbody>\n",
       "</table>\n",
       "</div>"
      ],
      "text/plain": [
       "                      close\n",
       "date                       \n",
       "2023-08-16 18:26:00  413.49\n",
       "2023-08-21 06:57:00  406.50"
      ]
     },
     "execution_count": 20,
     "metadata": {},
     "output_type": "execute_result"
    }
   ],
   "source": [
    "y_test[200:202]"
   ]
  },
  {
   "cell_type": "code",
   "execution_count": 21,
   "metadata": {},
   "outputs": [],
   "source": [
    "input = keras.layers.Input(shape=X_train.shape[1:])\n",
    "hidden = keras.layers.Dense(30, activation=\"relu\")(input)\n",
    "concat = keras.layers.Concatenate()([input, hidden])\n",
    "output = keras.layers.Dense(1, activation=\"linear\")(concat)\n",
    "model = keras.models.Model(inputs=[input], outputs=[output])"
   ]
  },
  {
   "cell_type": "code",
   "execution_count": 22,
   "metadata": {},
   "outputs": [
    {
     "data": {
      "text/plain": [
       "array([[0.64693631, 0.59809339, 0.6770963 , ..., 0.46067734, 0.27184243,\n",
       "        0.        ],\n",
       "       [0.60462567, 0.56368531, 0.65045504, ..., 0.49507834, 0.07950957,\n",
       "        1.        ],\n",
       "       [0.73758632, 0.68107758, 0.76507078, ..., 0.36612527, 0.1329709 ,\n",
       "        0.        ],\n",
       "       ...,\n",
       "       [0.62391757, 0.57785334, 0.66601198, ..., 0.50756758, 0.13278249,\n",
       "        0.        ],\n",
       "       [0.06532939, 0.06223814, 0.17110688, ..., 0.40315808, 0.07952979,\n",
       "        0.        ],\n",
       "       [0.80017538, 0.74989374, 0.82060905, ..., 0.15695753, 0.6088491 ,\n",
       "        0.        ]])"
      ]
     },
     "execution_count": 22,
     "metadata": {},
     "output_type": "execute_result"
    }
   ],
   "source": [
    "X_train"
   ]
  },
  {
   "cell_type": "code",
   "execution_count": 23,
   "metadata": {},
   "outputs": [
    {
     "name": "stdout",
     "output_type": "stream",
     "text": [
      "Epoch 1/20\n",
      "111/111 [==============================] - 0s 2ms/step - loss: 43242.5586 - val_loss: 160.7921\n",
      "Epoch 2/20\n",
      "111/111 [==============================] - 0s 837us/step - loss: 104.3979 - val_loss: 99.9506\n",
      "Epoch 3/20\n",
      "111/111 [==============================] - 0s 873us/step - loss: 72.4741 - val_loss: 72.8248\n",
      "Epoch 4/20\n",
      "111/111 [==============================] - 0s 827us/step - loss: 54.3377 - val_loss: 71.9803\n",
      "Epoch 5/20\n",
      "111/111 [==============================] - 0s 818us/step - loss: 44.1030 - val_loss: 53.7868\n",
      "Epoch 6/20\n",
      "111/111 [==============================] - 0s 827us/step - loss: 37.6676 - val_loss: 44.1239\n",
      "Epoch 7/20\n",
      "111/111 [==============================] - 0s 827us/step - loss: 33.0172 - val_loss: 39.7652\n",
      "Epoch 8/20\n",
      "111/111 [==============================] - 0s 800us/step - loss: 29.6271 - val_loss: 36.5964\n",
      "Epoch 9/20\n",
      "111/111 [==============================] - 0s 837us/step - loss: 27.5055 - val_loss: 36.0882\n",
      "Epoch 10/20\n",
      "111/111 [==============================] - 0s 855us/step - loss: 25.3324 - val_loss: 32.3849\n",
      "Epoch 11/20\n",
      "111/111 [==============================] - 0s 855us/step - loss: 23.6178 - val_loss: 32.0674\n",
      "Epoch 12/20\n",
      "111/111 [==============================] - 0s 846us/step - loss: 22.3403 - val_loss: 29.6689\n",
      "Epoch 13/20\n",
      "111/111 [==============================] - 0s 855us/step - loss: 21.0416 - val_loss: 28.2989\n",
      "Epoch 14/20\n",
      "111/111 [==============================] - 0s 804us/step - loss: 20.5068 - val_loss: 27.5506\n",
      "Epoch 15/20\n",
      "111/111 [==============================] - 0s 818us/step - loss: 19.5980 - val_loss: 26.4848\n",
      "Epoch 16/20\n",
      "111/111 [==============================] - 0s 809us/step - loss: 19.2084 - val_loss: 30.2179\n",
      "Epoch 17/20\n",
      "111/111 [==============================] - 0s 782us/step - loss: 18.4191 - val_loss: 25.1777\n",
      "Epoch 18/20\n",
      "111/111 [==============================] - 0s 782us/step - loss: 17.6675 - val_loss: 27.2177\n",
      "Epoch 19/20\n",
      "111/111 [==============================] - 0s 818us/step - loss: 17.3994 - val_loss: 24.1932\n",
      "Epoch 20/20\n",
      "111/111 [==============================] - 0s 782us/step - loss: 16.8293 - val_loss: 23.6995\n"
     ]
    }
   ],
   "source": [
    "model.compile(loss=\"mean_squared_error\", optimizer=\"sgd\")\n",
    "history = model.fit(X_train, y_train, epochs=20,\n",
    "           validation_split=0.1, batch_size=32 )"
   ]
  },
  {
   "cell_type": "markdown",
   "metadata": {},
   "source": [
    "Complex models using the Functional API with multiple input"
   ]
  },
  {
   "cell_type": "code",
   "execution_count": 24,
   "metadata": {},
   "outputs": [],
   "source": [
    "df_A = X.iloc[:, :4]\n",
    "df_B =X.iloc[:, 4:]\n",
    "num_features_A = df_A.shape[1]\n",
    "num_features_B = df_B.shape[1]"
   ]
  },
  {
   "cell_type": "code",
   "execution_count": 25,
   "metadata": {},
   "outputs": [],
   "source": [
    "input_A = keras.layers.Input(shape=(num_features_A,))\n",
    "input_B = keras.layers.Input(shape=(num_features_B,))\n",
    "hidden1 = keras.layers.Dense(30, activation=\"relu\")(input_B)\n",
    "hidden2 = keras.layers.Dense(30, activation=\"relu\")(hidden1)\n",
    "concat = keras.layers.concatenate([input_A, hidden2])\n",
    "output = keras.layers.Dense(1, activation=\"linear\")(concat)\n",
    "model = keras.models.Model(inputs=[input_A, input_B], outputs=[output])"
   ]
  },
  {
   "cell_type": "code",
   "execution_count": 26,
   "metadata": {},
   "outputs": [
    {
     "name": "stdout",
     "output_type": "stream",
     "text": [
      "Epoch 1/20\n",
      "111/111 [==============================] - 0s 1ms/step - loss: nan - val_loss: nan\n",
      "Epoch 2/20\n",
      "111/111 [==============================] - 0s 827us/step - loss: nan - val_loss: nan\n",
      "Epoch 3/20\n",
      "111/111 [==============================] - 0s 837us/step - loss: nan - val_loss: nan\n",
      "Epoch 4/20\n",
      "111/111 [==============================] - 0s 900us/step - loss: nan - val_loss: nan\n",
      "Epoch 5/20\n",
      "111/111 [==============================] - 0s 882us/step - loss: nan - val_loss: nan\n",
      "Epoch 6/20\n",
      "111/111 [==============================] - 0s 809us/step - loss: nan - val_loss: nan\n",
      "Epoch 7/20\n",
      "111/111 [==============================] - 0s 818us/step - loss: nan - val_loss: nan\n",
      "Epoch 8/20\n",
      "111/111 [==============================] - 0s 855us/step - loss: nan - val_loss: nan\n",
      "Epoch 9/20\n",
      "111/111 [==============================] - 0s 827us/step - loss: nan - val_loss: nan\n",
      "Epoch 10/20\n",
      "111/111 [==============================] - 0s 800us/step - loss: nan - val_loss: nan\n",
      "Epoch 11/20\n",
      "111/111 [==============================] - 0s 800us/step - loss: nan - val_loss: nan\n",
      "Epoch 12/20\n",
      "111/111 [==============================] - 0s 900us/step - loss: nan - val_loss: nan\n",
      "Epoch 13/20\n",
      "111/111 [==============================] - 0s 882us/step - loss: nan - val_loss: nan\n",
      "Epoch 14/20\n",
      "111/111 [==============================] - 0s 873us/step - loss: nan - val_loss: nan\n",
      "Epoch 15/20\n",
      "111/111 [==============================] - 0s 946us/step - loss: nan - val_loss: nan\n",
      "Epoch 16/20\n",
      "111/111 [==============================] - 0s 900us/step - loss: nan - val_loss: nan\n",
      "Epoch 17/20\n",
      "111/111 [==============================] - 0s 846us/step - loss: nan - val_loss: nan\n",
      "Epoch 18/20\n",
      "111/111 [==============================] - 0s 864us/step - loss: nan - val_loss: nan\n",
      "Epoch 19/20\n",
      "111/111 [==============================] - 0s 946us/step - loss: nan - val_loss: nan\n",
      "Epoch 20/20\n",
      "111/111 [==============================] - 0s 855us/step - loss: nan - val_loss: nan\n",
      "31/31 [==============================] - 0s 567us/step - loss: nan\n"
     ]
    }
   ],
   "source": [
    "model.compile(loss=\"mse\", optimizer=\"sgd\")\n",
    "X_train_A, X_train_B = X_train[:, :4], X_train[:, 4:]\n",
    "X_test_A, X_test_B = X_test[:, :4], X_test[:, 4:]\n",
    "X_new_A, X_new_B = X_test_A[:10], X_test_B[:10]\n",
    "history = model.fit((X_train_A, X_train_B), y_train, epochs=20,\n",
    "        validation_split=0.1, batch_size=32)\n",
    "mse_test = model.evaluate((X_test_A, X_test_B), y_test)\n",
    "\n"
   ]
  },
  {
   "cell_type": "code",
   "execution_count": 27,
   "metadata": {},
   "outputs": [
    {
     "name": "stdout",
     "output_type": "stream",
     "text": [
      "1/1 [==============================] - 0s 39ms/step\n"
     ]
    }
   ],
   "source": [
    "y_pred = model.predict((X_new_A, X_new_B))"
   ]
  },
  {
   "cell_type": "code",
   "execution_count": 28,
   "metadata": {},
   "outputs": [
    {
     "data": {
      "text/plain": [
       "array([[nan],\n",
       "       [nan],\n",
       "       [nan],\n",
       "       [nan],\n",
       "       [nan],\n",
       "       [nan],\n",
       "       [nan],\n",
       "       [nan],\n",
       "       [nan],\n",
       "       [nan]], dtype=float32)"
      ]
     },
     "execution_count": 28,
     "metadata": {},
     "output_type": "execute_result"
    }
   ],
   "source": [
    "y_pred"
   ]
  },
  {
   "cell_type": "code",
   "execution_count": 29,
   "metadata": {},
   "outputs": [
    {
     "data": {
      "text/html": [
       "<div>\n",
       "<style scoped>\n",
       "    .dataframe tbody tr th:only-of-type {\n",
       "        vertical-align: middle;\n",
       "    }\n",
       "\n",
       "    .dataframe tbody tr th {\n",
       "        vertical-align: top;\n",
       "    }\n",
       "\n",
       "    .dataframe thead th {\n",
       "        text-align: right;\n",
       "    }\n",
       "</style>\n",
       "<table border=\"1\" class=\"dataframe\">\n",
       "  <thead>\n",
       "    <tr style=\"text-align: right;\">\n",
       "      <th></th>\n",
       "      <th>close</th>\n",
       "    </tr>\n",
       "    <tr>\n",
       "      <th>date</th>\n",
       "      <th></th>\n",
       "    </tr>\n",
       "  </thead>\n",
       "  <tbody>\n",
       "    <tr>\n",
       "      <th>2023-08-22 14:40:00</th>\n",
       "      <td>413.350</td>\n",
       "    </tr>\n",
       "    <tr>\n",
       "      <th>2023-08-02 14:52:00</th>\n",
       "      <td>431.120</td>\n",
       "    </tr>\n",
       "    <tr>\n",
       "      <th>2023-08-22 19:17:00</th>\n",
       "      <td>412.935</td>\n",
       "    </tr>\n",
       "    <tr>\n",
       "      <th>2023-08-22 08:25:00</th>\n",
       "      <td>410.000</td>\n",
       "    </tr>\n",
       "    <tr>\n",
       "      <th>2023-07-27 16:36:00</th>\n",
       "      <td>412.900</td>\n",
       "    </tr>\n",
       "    <tr>\n",
       "      <th>2023-07-31 08:17:00</th>\n",
       "      <td>426.500</td>\n",
       "    </tr>\n",
       "    <tr>\n",
       "      <th>2023-08-08 12:01:00</th>\n",
       "      <td>436.740</td>\n",
       "    </tr>\n",
       "    <tr>\n",
       "      <th>2023-07-27 11:40:00</th>\n",
       "      <td>422.950</td>\n",
       "    </tr>\n",
       "    <tr>\n",
       "      <th>2023-07-31 15:10:00</th>\n",
       "      <td>437.850</td>\n",
       "    </tr>\n",
       "    <tr>\n",
       "      <th>2023-08-01 16:16:00</th>\n",
       "      <td>438.300</td>\n",
       "    </tr>\n",
       "  </tbody>\n",
       "</table>\n",
       "</div>"
      ],
      "text/plain": [
       "                       close\n",
       "date                        \n",
       "2023-08-22 14:40:00  413.350\n",
       "2023-08-02 14:52:00  431.120\n",
       "2023-08-22 19:17:00  412.935\n",
       "2023-08-22 08:25:00  410.000\n",
       "2023-07-27 16:36:00  412.900\n",
       "2023-07-31 08:17:00  426.500\n",
       "2023-08-08 12:01:00  436.740\n",
       "2023-07-27 11:40:00  422.950\n",
       "2023-07-31 15:10:00  437.850\n",
       "2023-08-01 16:16:00  438.300"
      ]
     },
     "execution_count": 29,
     "metadata": {},
     "output_type": "execute_result"
    }
   ],
   "source": [
    "y_test[:10]"
   ]
  },
  {
   "cell_type": "markdown",
   "metadata": {},
   "source": [
    "Multi output neural network"
   ]
  },
  {
   "cell_type": "code",
   "execution_count": 30,
   "metadata": {},
   "outputs": [
    {
     "name": "stdout",
     "output_type": "stream",
     "text": [
      "Epoch 1/20\n",
      "111/111 [==============================] - 1s 2ms/step - loss: nan - dense_9_loss: nan - dense_10_loss: nan - val_loss: nan - val_dense_9_loss: nan - val_dense_10_loss: nan\n",
      "Epoch 2/20\n",
      "111/111 [==============================] - 0s 937us/step - loss: nan - dense_9_loss: nan - dense_10_loss: nan - val_loss: nan - val_dense_9_loss: nan - val_dense_10_loss: nan\n",
      "Epoch 3/20\n",
      "111/111 [==============================] - 0s 973us/step - loss: nan - dense_9_loss: nan - dense_10_loss: nan - val_loss: nan - val_dense_9_loss: nan - val_dense_10_loss: nan\n",
      "Epoch 4/20\n",
      "111/111 [==============================] - 0s 946us/step - loss: nan - dense_9_loss: nan - dense_10_loss: nan - val_loss: nan - val_dense_9_loss: nan - val_dense_10_loss: nan\n",
      "Epoch 5/20\n",
      "111/111 [==============================] - 0s 937us/step - loss: nan - dense_9_loss: nan - dense_10_loss: nan - val_loss: nan - val_dense_9_loss: nan - val_dense_10_loss: nan\n",
      "Epoch 6/20\n",
      "111/111 [==============================] - 0s 1ms/step - loss: nan - dense_9_loss: nan - dense_10_loss: nan - val_loss: nan - val_dense_9_loss: nan - val_dense_10_loss: nan\n",
      "Epoch 7/20\n",
      "111/111 [==============================] - 0s 1ms/step - loss: nan - dense_9_loss: nan - dense_10_loss: nan - val_loss: nan - val_dense_9_loss: nan - val_dense_10_loss: nan\n",
      "Epoch 8/20\n",
      "111/111 [==============================] - 0s 991us/step - loss: nan - dense_9_loss: nan - dense_10_loss: nan - val_loss: nan - val_dense_9_loss: nan - val_dense_10_loss: nan\n",
      "Epoch 9/20\n",
      "111/111 [==============================] - 0s 982us/step - loss: nan - dense_9_loss: nan - dense_10_loss: nan - val_loss: nan - val_dense_9_loss: nan - val_dense_10_loss: nan\n",
      "Epoch 10/20\n",
      "111/111 [==============================] - 0s 982us/step - loss: nan - dense_9_loss: nan - dense_10_loss: nan - val_loss: nan - val_dense_9_loss: nan - val_dense_10_loss: nan\n",
      "Epoch 11/20\n",
      "111/111 [==============================] - 0s 973us/step - loss: nan - dense_9_loss: nan - dense_10_loss: nan - val_loss: nan - val_dense_9_loss: nan - val_dense_10_loss: nan\n",
      "Epoch 12/20\n",
      "111/111 [==============================] - 0s 955us/step - loss: nan - dense_9_loss: nan - dense_10_loss: nan - val_loss: nan - val_dense_9_loss: nan - val_dense_10_loss: nan\n",
      "Epoch 13/20\n",
      "111/111 [==============================] - 0s 946us/step - loss: nan - dense_9_loss: nan - dense_10_loss: nan - val_loss: nan - val_dense_9_loss: nan - val_dense_10_loss: nan\n",
      "Epoch 14/20\n",
      "111/111 [==============================] - 0s 964us/step - loss: nan - dense_9_loss: nan - dense_10_loss: nan - val_loss: nan - val_dense_9_loss: nan - val_dense_10_loss: nan\n",
      "Epoch 15/20\n",
      "111/111 [==============================] - 0s 946us/step - loss: nan - dense_9_loss: nan - dense_10_loss: nan - val_loss: nan - val_dense_9_loss: nan - val_dense_10_loss: nan\n",
      "Epoch 16/20\n",
      "111/111 [==============================] - 0s 937us/step - loss: nan - dense_9_loss: nan - dense_10_loss: nan - val_loss: nan - val_dense_9_loss: nan - val_dense_10_loss: nan\n",
      "Epoch 17/20\n",
      "111/111 [==============================] - 0s 946us/step - loss: nan - dense_9_loss: nan - dense_10_loss: nan - val_loss: nan - val_dense_9_loss: nan - val_dense_10_loss: nan\n",
      "Epoch 18/20\n",
      "111/111 [==============================] - 0s 1ms/step - loss: nan - dense_9_loss: nan - dense_10_loss: nan - val_loss: nan - val_dense_9_loss: nan - val_dense_10_loss: nan\n",
      "Epoch 19/20\n",
      "111/111 [==============================] - 0s 1ms/step - loss: nan - dense_9_loss: nan - dense_10_loss: nan - val_loss: nan - val_dense_9_loss: nan - val_dense_10_loss: nan\n",
      "Epoch 20/20\n",
      "111/111 [==============================] - 0s 1ms/step - loss: nan - dense_9_loss: nan - dense_10_loss: nan - val_loss: nan - val_dense_9_loss: nan - val_dense_10_loss: nan\n",
      "31/31 [==============================] - 0s 700us/step - loss: nan - dense_9_loss: nan - dense_10_loss: nan\n"
     ]
    }
   ],
   "source": [
    "input_A = keras.layers.Input(shape=(num_features_A,))\n",
    "input_B = keras.layers.Input(shape=(num_features_B,))\n",
    "hidden1 = keras.layers.Dense(30, activation=\"relu\")(input_B)\n",
    "hidden2 = keras.layers.Dense(30, activation=\"relu\")(hidden1)\n",
    "concat = keras.layers.concatenate([input_A, hidden2])\n",
    "output = keras.layers.Dense(1, activation=\"linear\")(concat)\n",
    "\n",
    "aux_output = keras.layers.Dense(1)(hidden2)\n",
    "model = keras.models.Model(inputs=[input_A, input_B],\n",
    "outputs=[output, aux_output])\n",
    "X_train_A, X_train_B = X_train[:, :4], X_train[:, 4:]\n",
    "X_test_A, X_test_B = X_test[:, :4], X_test[:, 4:]\n",
    "X_new_A, X_new_B = X_test_A[:10], X_test_B[:10]\n",
    "model.compile(loss=[\"mse\", \"mse\"], loss_weights=[0.9, 0.1], optimizer=\"sgd\")\n",
    "history = model.fit([X_train_A, X_train_B], [y_train, y_train], epochs=20,\n",
    "  validation_split=0.1, batch_size=32)\n",
    "mse_test = model.evaluate((X_test_A, X_test_B), y_test)\n"
   ]
  },
  {
   "cell_type": "code",
   "execution_count": 31,
   "metadata": {},
   "outputs": [
    {
     "name": "stdout",
     "output_type": "stream",
     "text": [
      "31/31 [==============================] - 0s 667us/step - loss: nan - dense_9_loss: nan - dense_10_loss: nan\n"
     ]
    }
   ],
   "source": [
    "total_loss, main_loss, aux_loss = model.evaluate(\n",
    " [X_test_A, X_test_B], [y_test, y_test])"
   ]
  },
  {
   "cell_type": "code",
   "execution_count": 32,
   "metadata": {},
   "outputs": [
    {
     "name": "stdout",
     "output_type": "stream",
     "text": [
      "1/1 [==============================] - 0s 43ms/step\n"
     ]
    }
   ],
   "source": [
    "y_pred_main, y_pred_aux = model.predict([X_new_A, X_new_B])\n"
   ]
  },
  {
   "cell_type": "code",
   "execution_count": 33,
   "metadata": {},
   "outputs": [
    {
     "data": {
      "text/plain": [
       "array([[nan],\n",
       "       [nan],\n",
       "       [nan],\n",
       "       [nan],\n",
       "       [nan],\n",
       "       [nan],\n",
       "       [nan],\n",
       "       [nan],\n",
       "       [nan],\n",
       "       [nan]], dtype=float32)"
      ]
     },
     "execution_count": 33,
     "metadata": {},
     "output_type": "execute_result"
    }
   ],
   "source": [
    "y_pred_main"
   ]
  },
  {
   "cell_type": "code",
   "execution_count": 34,
   "metadata": {},
   "outputs": [
    {
     "data": {
      "text/plain": [
       "array([[nan],\n",
       "       [nan],\n",
       "       [nan],\n",
       "       [nan],\n",
       "       [nan],\n",
       "       [nan],\n",
       "       [nan],\n",
       "       [nan],\n",
       "       [nan],\n",
       "       [nan]], dtype=float32)"
      ]
     },
     "execution_count": 34,
     "metadata": {},
     "output_type": "execute_result"
    }
   ],
   "source": [
    "y_pred_aux"
   ]
  }
 ],
 "metadata": {
  "kernelspec": {
   "display_name": "Python 3",
   "language": "python",
   "name": "python3"
  },
  "language_info": {
   "codemirror_mode": {
    "name": "ipython",
    "version": 3
   },
   "file_extension": ".py",
   "mimetype": "text/x-python",
   "name": "python",
   "nbconvert_exporter": "python",
   "pygments_lexer": "ipython3",
   "version": "3.9.10"
  },
  "orig_nbformat": 4
 },
 "nbformat": 4,
 "nbformat_minor": 2
}
